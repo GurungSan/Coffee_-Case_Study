{
 "cells": [
  {
   "cell_type": "markdown",
   "metadata": {
    "colab_type": "text",
    "id": "Jm0w3zN4DuVK"
   },
   "source": [
    "# **Springboard Decision Tree Specialty Coffee Case Study - Tier 3**\n",
    "\n",
    "\n"
   ]
  },
  {
   "cell_type": "markdown",
   "metadata": {
    "colab_type": "text",
    "id": "BhqpAY7GDuVN"
   },
   "source": [
    "# The Scenario\n",
    "\n",
    "Imagine you've just finished the Springboard Data Science Career Track course, and have been hired by a rising popular specialty coffee company - RR Diner Coffee - as a data scientist. Congratulations!\n",
    "\n",
    "RR Diner Coffee sells two types of thing:\n",
    "- specialty coffee beans, in bulk (by the kilogram only) \n",
    "- coffee equipment and merchandise (grinders, brewing equipment, mugs, books, t-shirts).\n",
    "\n",
    "RR Diner Coffee has three stores, two in Europe and one in the USA. The flagshap store is in the USA, and everything is quality assessed there, before being shipped out. Customers further away from the USA flagship store have higher shipping charges. \n",
    "\n",
    "You've been taken on at RR Diner Coffee because the company are turning towards using data science and machine learning to systematically make decisions about which coffee farmers they should strike deals with. \n",
    "\n",
    "RR Diner Coffee typically buys coffee from farmers, processes it on site, brings it back to the USA, roasts it, packages it, markets it, and ships it (only in bulk, and after quality assurance) to customers internationally. These customers all own coffee shops in major cities like New York, Paris, London, Hong Kong, Tokyo, and Berlin. \n",
    "\n",
    "Now, RR Diner Coffee has a decision about whether to strike a deal with a legendary coffee farm (known as the **Hidden Farm**) in rural China: there are rumours their coffee tastes of lychee and dark chocolate, while also being as sweet as apple juice. \n",
    "\n",
    "It's a risky decision, as the deal will be expensive, and the coffee might not be bought by customers. The stakes are high: times are tough, stocks are low, farmers are reverting to old deals with the larger enterprises and the publicity of selling *Hidden Farm* coffee could save the RR Diner Coffee business. \n",
    "\n",
    "Your first job, then, is ***to build a decision tree to predict how many units of the Hidden Farm Chinese coffee will be purchased by RR Diner Coffee's most loyal customers.*** \n",
    "\n",
    "To this end, you and your team have conducted a survey of 710 of the most loyal RR Diner Coffee customers, collecting data on the customers':\n",
    "- age\n",
    "- gender \n",
    "- salary \n",
    "- whether they have bought at least one RR Diner Coffee product online\n",
    "- their distance from the flagship store in the USA (standardized to a number between 0 and 11) \n",
    "- how much they spent on RR Diner Coffee products on the week of the survey \n",
    "- how much they spent on RR Diner Coffee products in the month preeding the survey\n",
    "- the number of RR Diner coffee bean shipments each customer has ordered over the preceding year. \n",
    "\n",
    "You also asked each customer participating in the survey whether they would buy the Hidden Farm coffee, and some (but not all) of the customers gave responses to that question. \n",
    "\n",
    "You sit back and think: if more than 70% of the interviewed customers are likely to buy the Hidden Farm coffee, you will strike the deal with the local Hidden Farm farmers and sell the coffee. Otherwise, you won't strike the deal and the Hidden Farm coffee will remain in legends only. There's some doubt in your mind about whether 70% is a reasonable threshold, but it'll do for the moment. \n",
    "\n",
    "To solve the problem, then, you will build a decision tree to implement a classification solution. \n",
    "\n",
    "\n",
    "-------------------------------\n",
    "As ever, this notebook is **tiered**, meaning you can elect that tier that is right for your confidence and skill level. There are 3 tiers, with tier 1 being the easiest and tier 3 being the hardest. This is ***tier 3***, so it will be challenging. \n",
    "\n",
    "**1. Sourcing and loading** \n",
    "- Import packages\n",
    "- Load data\n",
    "- Explore the data\n",
    "\n",
    " \n",
    "**2. Cleaning, transforming and visualizing**\n",
    "- Cleaning the data\n",
    "- Train/test split\n",
    "  \n",
    "  \n",
    "**3. Modelling** \n",
    "- Model 1: Entropy model - no max_depth\n",
    "- Model 2: Gini impurity model - no max_depth\n",
    "- Model 3: Entropy model - max depth 3\n",
    "- Model 4: Gini impurity model - max depth 3\n",
    "\n",
    "\n",
    "**4. Evaluating and concluding** \n",
    "- How many customers will buy Hidden Farm coffee?\n",
    "- Decision\n",
    "\n",
    "**5. Random Forest** \n",
    "- Import necessary modules\n",
    "- Model\n",
    "- Revise conclusion\n",
    "    "
   ]
  },
  {
   "cell_type": "markdown",
   "metadata": {
    "colab_type": "text",
    "id": "nciXGXtCDuVO"
   },
   "source": [
    "# 0. Overview\n",
    "\n",
    "This notebook uses decision trees to determine whether the factors of salary, gender, age, how much money the customer spent last week and during the preceding month on RR Diner Coffee products, how many kilogram coffee bags the customer bought over the last year, whether they have bought at least one RR Diner Coffee product online, and their distance from the flagship store in the USA, could predict whether customers would purchase the Hidden Farm coffee if a deal with its farmers were struck. "
   ]
  },
  {
   "cell_type": "markdown",
   "metadata": {
    "colab_type": "text",
    "id": "5fSgD2h9DuVP"
   },
   "source": [
    "# 1. Sourcing and loading\n",
    "## 1a. Import Packages"
   ]
  },
  {
   "cell_type": "code",
   "execution_count": 38,
   "metadata": {},
   "outputs": [
    {
     "name": "stdout",
     "output_type": "stream",
     "text": [
      "Requirement already satisfied: pydotplus in c:\\users\\santo\\anaconda\\lib\\site-packages (2.0.2)\n",
      "Requirement already satisfied: pyparsing>=2.0.1 in c:\\users\\santo\\anaconda\\lib\\site-packages (from pydotplus) (2.4.7)\n",
      "Note: you may need to restart the kernel to use updated packages.\n"
     ]
    }
   ],
   "source": [
    "pip install pydotplus"
   ]
  },
  {
   "cell_type": "code",
   "execution_count": null,
   "metadata": {},
   "outputs": [],
   "source": []
  },
  {
   "cell_type": "code",
   "execution_count": null,
   "metadata": {},
   "outputs": [],
   "source": []
  },
  {
   "cell_type": "code",
   "execution_count": 39,
   "metadata": {
    "colab": {},
    "colab_type": "code",
    "id": "CfGkTcLvDuVQ"
   },
   "outputs": [],
   "source": [
    "import pandas as pd\n",
    "import numpy as np\n",
    "from sklearn import tree, metrics\n",
    "from sklearn.model_selection import train_test_split\n",
    "import seaborn as sns\n",
    "import matplotlib.pyplot as plt\n",
    "from io import StringIO  \n",
    "from IPython.display import Image  \n",
    "import pydotplus"
   ]
  },
  {
   "cell_type": "markdown",
   "metadata": {
    "colab_type": "text",
    "id": "ZLgxyhNrDuVT"
   },
   "source": [
    "## 1b. Load data "
   ]
  },
  {
   "cell_type": "code",
   "execution_count": 40,
   "metadata": {
    "colab": {},
    "colab_type": "code",
    "id": "chW2ozlnDuVU"
   },
   "outputs": [],
   "source": [
    "# Read in the data to a variable called coffeeData\n",
    "coffee = pd.read_csv(\"data/RRDinerCoffeeData.csv\")"
   ]
  },
  {
   "cell_type": "markdown",
   "metadata": {
    "colab_type": "text",
    "id": "qnMVYf2NDuVW"
   },
   "source": [
    "## 1c. Explore the data"
   ]
  },
  {
   "cell_type": "markdown",
   "metadata": {
    "colab_type": "text",
    "id": "U5Qm4obyDuVX"
   },
   "source": [
    "As we've seen, exploration entails doing things like checking out the **initial appearance** of the data with head(), the **dimensions** of our data with .shape, the **data types** of the variables with .info(), the **number of non-null values**, how much **memory** is being used to store the data, and finally the major summary statistcs capturing **central tendancy, dispersion and the null-excluding shape of the dataset's distribution**. \n",
    "\n",
    "How much of this can you do yourself by this point in the course? Have a real go. "
   ]
  },
  {
   "cell_type": "code",
   "execution_count": 41,
   "metadata": {
    "colab": {},
    "colab_type": "code",
    "id": "cHEKFT4SDuVY"
   },
   "outputs": [
    {
     "data": {
      "text/html": [
       "<div>\n",
       "<style scoped>\n",
       "    .dataframe tbody tr th:only-of-type {\n",
       "        vertical-align: middle;\n",
       "    }\n",
       "\n",
       "    .dataframe tbody tr th {\n",
       "        vertical-align: top;\n",
       "    }\n",
       "\n",
       "    .dataframe thead th {\n",
       "        text-align: right;\n",
       "    }\n",
       "</style>\n",
       "<table border=\"1\" class=\"dataframe\">\n",
       "  <thead>\n",
       "    <tr style=\"text-align: right;\">\n",
       "      <th></th>\n",
       "      <th>Age</th>\n",
       "      <th>Gender</th>\n",
       "      <th>num_coffeeBags_per_year</th>\n",
       "      <th>spent_week</th>\n",
       "      <th>spent_month</th>\n",
       "      <th>SlrAY</th>\n",
       "      <th>Distance</th>\n",
       "      <th>Online</th>\n",
       "      <th>Decision</th>\n",
       "    </tr>\n",
       "  </thead>\n",
       "  <tbody>\n",
       "    <tr>\n",
       "      <th>0</th>\n",
       "      <td>36</td>\n",
       "      <td>Female</td>\n",
       "      <td>0</td>\n",
       "      <td>24</td>\n",
       "      <td>73</td>\n",
       "      <td>42789</td>\n",
       "      <td>0.003168</td>\n",
       "      <td>0</td>\n",
       "      <td>1.0</td>\n",
       "    </tr>\n",
       "    <tr>\n",
       "      <th>1</th>\n",
       "      <td>24</td>\n",
       "      <td>Male</td>\n",
       "      <td>0</td>\n",
       "      <td>44</td>\n",
       "      <td>164</td>\n",
       "      <td>74035</td>\n",
       "      <td>0.520906</td>\n",
       "      <td>0</td>\n",
       "      <td>NaN</td>\n",
       "    </tr>\n",
       "    <tr>\n",
       "      <th>2</th>\n",
       "      <td>24</td>\n",
       "      <td>Male</td>\n",
       "      <td>0</td>\n",
       "      <td>39</td>\n",
       "      <td>119</td>\n",
       "      <td>30563</td>\n",
       "      <td>0.916005</td>\n",
       "      <td>1</td>\n",
       "      <td>1.0</td>\n",
       "    </tr>\n",
       "    <tr>\n",
       "      <th>3</th>\n",
       "      <td>20</td>\n",
       "      <td>Male</td>\n",
       "      <td>0</td>\n",
       "      <td>30</td>\n",
       "      <td>107</td>\n",
       "      <td>13166</td>\n",
       "      <td>0.932098</td>\n",
       "      <td>1</td>\n",
       "      <td>NaN</td>\n",
       "    </tr>\n",
       "    <tr>\n",
       "      <th>4</th>\n",
       "      <td>24</td>\n",
       "      <td>Female</td>\n",
       "      <td>0</td>\n",
       "      <td>20</td>\n",
       "      <td>36</td>\n",
       "      <td>14244</td>\n",
       "      <td>0.965881</td>\n",
       "      <td>0</td>\n",
       "      <td>1.0</td>\n",
       "    </tr>\n",
       "  </tbody>\n",
       "</table>\n",
       "</div>"
      ],
      "text/plain": [
       "   Age  Gender  num_coffeeBags_per_year  spent_week  spent_month  SlrAY  \\\n",
       "0   36  Female                        0          24           73  42789   \n",
       "1   24    Male                        0          44          164  74035   \n",
       "2   24    Male                        0          39          119  30563   \n",
       "3   20    Male                        0          30          107  13166   \n",
       "4   24  Female                        0          20           36  14244   \n",
       "\n",
       "   Distance  Online  Decision  \n",
       "0  0.003168       0       1.0  \n",
       "1  0.520906       0       NaN  \n",
       "2  0.916005       1       1.0  \n",
       "3  0.932098       1       NaN  \n",
       "4  0.965881       0       1.0  "
      ]
     },
     "execution_count": 41,
     "metadata": {},
     "output_type": "execute_result"
    }
   ],
   "source": [
    "# Call head() on your data \n",
    "coffee.head()"
   ]
  },
  {
   "cell_type": "code",
   "execution_count": 42,
   "metadata": {
    "colab": {},
    "colab_type": "code",
    "id": "rDshwA7tDuVa"
   },
   "outputs": [
    {
     "data": {
      "text/plain": [
       "(702, 9)"
      ]
     },
     "execution_count": 42,
     "metadata": {},
     "output_type": "execute_result"
    }
   ],
   "source": [
    "# Call .shape on your data\n",
    "coffee.shape"
   ]
  },
  {
   "cell_type": "code",
   "execution_count": 43,
   "metadata": {
    "colab": {},
    "colab_type": "code",
    "id": "iCxo0tomDuVc"
   },
   "outputs": [
    {
     "name": "stdout",
     "output_type": "stream",
     "text": [
      "<class 'pandas.core.frame.DataFrame'>\n",
      "RangeIndex: 702 entries, 0 to 701\n",
      "Data columns (total 9 columns):\n",
      " #   Column                   Non-Null Count  Dtype  \n",
      "---  ------                   --------------  -----  \n",
      " 0   Age                      702 non-null    int64  \n",
      " 1   Gender                   702 non-null    object \n",
      " 2   num_coffeeBags_per_year  702 non-null    int64  \n",
      " 3   spent_week               702 non-null    int64  \n",
      " 4   spent_month              702 non-null    int64  \n",
      " 5   SlrAY                    702 non-null    int64  \n",
      " 6   Distance                 702 non-null    float64\n",
      " 7   Online                   702 non-null    int64  \n",
      " 8   Decision                 474 non-null    float64\n",
      "dtypes: float64(2), int64(6), object(1)\n",
      "memory usage: 49.5+ KB\n"
     ]
    }
   ],
   "source": [
    "# Call info() on your data\n",
    "coffee.info()"
   ]
  },
  {
   "cell_type": "code",
   "execution_count": 44,
   "metadata": {
    "colab": {},
    "colab_type": "code",
    "id": "t0ZdmaUeDuVe"
   },
   "outputs": [
    {
     "data": {
      "text/html": [
       "<div>\n",
       "<style scoped>\n",
       "    .dataframe tbody tr th:only-of-type {\n",
       "        vertical-align: middle;\n",
       "    }\n",
       "\n",
       "    .dataframe tbody tr th {\n",
       "        vertical-align: top;\n",
       "    }\n",
       "\n",
       "    .dataframe thead th {\n",
       "        text-align: right;\n",
       "    }\n",
       "</style>\n",
       "<table border=\"1\" class=\"dataframe\">\n",
       "  <thead>\n",
       "    <tr style=\"text-align: right;\">\n",
       "      <th></th>\n",
       "      <th>Age</th>\n",
       "      <th>num_coffeeBags_per_year</th>\n",
       "      <th>spent_week</th>\n",
       "      <th>spent_month</th>\n",
       "      <th>SlrAY</th>\n",
       "      <th>Distance</th>\n",
       "      <th>Online</th>\n",
       "      <th>Decision</th>\n",
       "    </tr>\n",
       "  </thead>\n",
       "  <tbody>\n",
       "    <tr>\n",
       "      <th>count</th>\n",
       "      <td>702.000000</td>\n",
       "      <td>702.000000</td>\n",
       "      <td>702.000000</td>\n",
       "      <td>702.000000</td>\n",
       "      <td>702.000000</td>\n",
       "      <td>702.000000</td>\n",
       "      <td>702.000000</td>\n",
       "      <td>474.000000</td>\n",
       "    </tr>\n",
       "    <tr>\n",
       "      <th>mean</th>\n",
       "      <td>34.243590</td>\n",
       "      <td>2.710826</td>\n",
       "      <td>32.853276</td>\n",
       "      <td>107.923077</td>\n",
       "      <td>43819.843305</td>\n",
       "      <td>4.559186</td>\n",
       "      <td>0.531339</td>\n",
       "      <td>0.639241</td>\n",
       "    </tr>\n",
       "    <tr>\n",
       "      <th>std</th>\n",
       "      <td>13.927945</td>\n",
       "      <td>1.593629</td>\n",
       "      <td>15.731878</td>\n",
       "      <td>55.348485</td>\n",
       "      <td>26192.626943</td>\n",
       "      <td>3.116275</td>\n",
       "      <td>0.499373</td>\n",
       "      <td>0.480728</td>\n",
       "    </tr>\n",
       "    <tr>\n",
       "      <th>min</th>\n",
       "      <td>16.000000</td>\n",
       "      <td>0.000000</td>\n",
       "      <td>0.000000</td>\n",
       "      <td>0.000000</td>\n",
       "      <td>1617.000000</td>\n",
       "      <td>0.003168</td>\n",
       "      <td>0.000000</td>\n",
       "      <td>0.000000</td>\n",
       "    </tr>\n",
       "    <tr>\n",
       "      <th>25%</th>\n",
       "      <td>23.000000</td>\n",
       "      <td>1.000000</td>\n",
       "      <td>24.250000</td>\n",
       "      <td>62.000000</td>\n",
       "      <td>22812.250000</td>\n",
       "      <td>1.877812</td>\n",
       "      <td>0.000000</td>\n",
       "      <td>0.000000</td>\n",
       "    </tr>\n",
       "    <tr>\n",
       "      <th>50%</th>\n",
       "      <td>28.000000</td>\n",
       "      <td>3.000000</td>\n",
       "      <td>36.000000</td>\n",
       "      <td>113.500000</td>\n",
       "      <td>41975.000000</td>\n",
       "      <td>4.196167</td>\n",
       "      <td>1.000000</td>\n",
       "      <td>1.000000</td>\n",
       "    </tr>\n",
       "    <tr>\n",
       "      <th>75%</th>\n",
       "      <td>46.000000</td>\n",
       "      <td>4.000000</td>\n",
       "      <td>43.000000</td>\n",
       "      <td>150.750000</td>\n",
       "      <td>60223.000000</td>\n",
       "      <td>6.712022</td>\n",
       "      <td>1.000000</td>\n",
       "      <td>1.000000</td>\n",
       "    </tr>\n",
       "    <tr>\n",
       "      <th>max</th>\n",
       "      <td>90.000000</td>\n",
       "      <td>5.000000</td>\n",
       "      <td>62.000000</td>\n",
       "      <td>210.000000</td>\n",
       "      <td>182058.000000</td>\n",
       "      <td>10.986203</td>\n",
       "      <td>1.000000</td>\n",
       "      <td>1.000000</td>\n",
       "    </tr>\n",
       "  </tbody>\n",
       "</table>\n",
       "</div>"
      ],
      "text/plain": [
       "              Age  num_coffeeBags_per_year  spent_week  spent_month  \\\n",
       "count  702.000000               702.000000  702.000000   702.000000   \n",
       "mean    34.243590                 2.710826   32.853276   107.923077   \n",
       "std     13.927945                 1.593629   15.731878    55.348485   \n",
       "min     16.000000                 0.000000    0.000000     0.000000   \n",
       "25%     23.000000                 1.000000   24.250000    62.000000   \n",
       "50%     28.000000                 3.000000   36.000000   113.500000   \n",
       "75%     46.000000                 4.000000   43.000000   150.750000   \n",
       "max     90.000000                 5.000000   62.000000   210.000000   \n",
       "\n",
       "               SlrAY    Distance      Online    Decision  \n",
       "count     702.000000  702.000000  702.000000  474.000000  \n",
       "mean    43819.843305    4.559186    0.531339    0.639241  \n",
       "std     26192.626943    3.116275    0.499373    0.480728  \n",
       "min      1617.000000    0.003168    0.000000    0.000000  \n",
       "25%     22812.250000    1.877812    0.000000    0.000000  \n",
       "50%     41975.000000    4.196167    1.000000    1.000000  \n",
       "75%     60223.000000    6.712022    1.000000    1.000000  \n",
       "max    182058.000000   10.986203    1.000000    1.000000  "
      ]
     },
     "execution_count": 44,
     "metadata": {},
     "output_type": "execute_result"
    }
   ],
   "source": [
    "# Call describe() on your data to get the relevant summary statistics for your data \n",
    "coffee.describe()"
   ]
  },
  {
   "cell_type": "markdown",
   "metadata": {
    "colab_type": "text",
    "id": "INkujJ6QDuVg"
   },
   "source": [
    "# 2. Cleaning, transforming and visualizing\n",
    "## 2a. Cleaning the data"
   ]
  },
  {
   "cell_type": "markdown",
   "metadata": {
    "colab_type": "text",
    "id": "wIMW_rbdDuVh"
   },
   "source": [
    "Some datasets don't require any cleaning, but almost all do. This one does. We need to replace '1.0' and '0.0' in the 'Decision' column by 'YES' and 'NO' respectively, clean up the values of the 'gender' column, and change the column names to words which maximize meaning and clarity. "
   ]
  },
  {
   "cell_type": "markdown",
   "metadata": {
    "colab_type": "text",
    "id": "EEXdBALeDuVi"
   },
   "source": [
    "First, let's change the name of `spent_week`, `spent_month`, and `SlrAY` to `spent_last_week` and `spent_last_month` and `salary` respectively."
   ]
  },
  {
   "cell_type": "code",
   "execution_count": 45,
   "metadata": {
    "colab": {},
    "colab_type": "code",
    "id": "rhxy23pbDuVi"
   },
   "outputs": [
    {
     "data": {
      "text/plain": [
       "Index(['Age', 'Gender', 'num_coffeeBags_per_year', 'spent_week', 'spent_month',\n",
       "       'SlrAY', 'Distance', 'Online', 'Decision'],\n",
       "      dtype='object')"
      ]
     },
     "execution_count": 45,
     "metadata": {},
     "output_type": "execute_result"
    }
   ],
   "source": [
    "# Check out the names of our data's columns \n",
    "coffee.columns"
   ]
  },
  {
   "cell_type": "code",
   "execution_count": 46,
   "metadata": {
    "colab": {},
    "colab_type": "code",
    "id": "C_D1m6ryDuVk"
   },
   "outputs": [],
   "source": [
    "# Make the relevant name changes to spent_week and spent_per_week.\n",
    "coffee.rename(columns={'spent_week': 'spent_last_week', 'spent_month': 'spent_last_month', 'SlrAY':'salary'},inplace=True)"
   ]
  },
  {
   "cell_type": "code",
   "execution_count": 47,
   "metadata": {
    "colab": {},
    "colab_type": "code",
    "id": "3cmdaeg8DuVm"
   },
   "outputs": [
    {
     "data": {
      "text/plain": [
       "Index(['Age', 'Gender', 'num_coffeeBags_per_year', 'spent_last_week',\n",
       "       'spent_last_month', 'salary', 'Distance', 'Online', 'Decision'],\n",
       "      dtype='object')"
      ]
     },
     "execution_count": 47,
     "metadata": {},
     "output_type": "execute_result"
    }
   ],
   "source": [
    "# Check out the column names\n",
    "coffee.columns"
   ]
  },
  {
   "cell_type": "code",
   "execution_count": 48,
   "metadata": {
    "colab": {},
    "colab_type": "code",
    "id": "XJK-wbfODuVp"
   },
   "outputs": [
    {
     "data": {
      "text/plain": [
       "0      Female\n",
       "1        Male\n",
       "2        Male\n",
       "3        Male\n",
       "4      Female\n",
       "        ...  \n",
       "697    Female\n",
       "698      Male\n",
       "699      Male\n",
       "700    Female\n",
       "701      Male\n",
       "Name: Gender, Length: 702, dtype: object"
      ]
     },
     "execution_count": 48,
     "metadata": {},
     "output_type": "execute_result"
    }
   ],
   "source": [
    "# Let's have a closer look at the gender column. Its values need cleaning.\n",
    "coffee.Gender"
   ]
  },
  {
   "cell_type": "code",
   "execution_count": 49,
   "metadata": {
    "colab": {},
    "colab_type": "code",
    "id": "88bITtgzDuVr"
   },
   "outputs": [
    {
     "data": {
      "text/plain": [
       "array(['Female', 'Male', 'female', 'F', 'f ', 'FEMALE', 'MALE', 'male',\n",
       "       'M'], dtype=object)"
      ]
     },
     "execution_count": 49,
     "metadata": {},
     "output_type": "execute_result"
    }
   ],
   "source": [
    "# See the gender column's unique values \n",
    "coffee.Gender.unique()"
   ]
  },
  {
   "cell_type": "markdown",
   "metadata": {
    "colab_type": "text",
    "id": "-eGzgGR1DuVt"
   },
   "source": [
    "We can see a bunch of inconsistency here.\n",
    "\n",
    "Use replace() to make the values of the `gender` column just `Female` and `Male`."
   ]
  },
  {
   "cell_type": "code",
   "execution_count": 50,
   "metadata": {
    "colab": {},
    "colab_type": "code",
    "id": "h0FOX3I3DuVu"
   },
   "outputs": [],
   "source": [
    "# Replace all alternate values for the Female entry with 'Female'\n",
    "coffee.replace(['F','f ', 'female','Female'], 'Female', inplace = True)"
   ]
  },
  {
   "cell_type": "code",
   "execution_count": 51,
   "metadata": {
    "colab": {},
    "colab_type": "code",
    "id": "5TThfHgCDuVw"
   },
   "outputs": [
    {
     "data": {
      "text/plain": [
       "array(['Female', 'Male', 'FEMALE', 'MALE', 'male', 'M'], dtype=object)"
      ]
     },
     "execution_count": 51,
     "metadata": {},
     "output_type": "execute_result"
    }
   ],
   "source": [
    "# Check out the unique values for the 'gender' column\n",
    "coffee.Gender.unique()"
   ]
  },
  {
   "cell_type": "code",
   "execution_count": 52,
   "metadata": {
    "colab": {},
    "colab_type": "code",
    "id": "4wRKBvSHDuVy"
   },
   "outputs": [],
   "source": [
    "# Replace all alternate values with \"Male\"\n",
    "coffee.replace(['M','Male ', ' MALE','male'], 'Male', inplace = True)"
   ]
  },
  {
   "cell_type": "code",
   "execution_count": 53,
   "metadata": {
    "colab": {},
    "colab_type": "code",
    "id": "nhBUkXIADuV0"
   },
   "outputs": [
    {
     "data": {
      "text/plain": [
       "0      Female\n",
       "1        Male\n",
       "2        Male\n",
       "3        Male\n",
       "4      Female\n",
       "        ...  \n",
       "697    Female\n",
       "698      Male\n",
       "699      Male\n",
       "700    Female\n",
       "701      Male\n",
       "Name: Gender, Length: 702, dtype: object"
      ]
     },
     "execution_count": 53,
     "metadata": {},
     "output_type": "execute_result"
    }
   ],
   "source": [
    "# Let's check the unique values of the column \"gender\"\n",
    "coffee.Gender"
   ]
  },
  {
   "cell_type": "code",
   "execution_count": 54,
   "metadata": {
    "colab": {},
    "colab_type": "code",
    "id": "AdhhO4WHDuV2"
   },
   "outputs": [
    {
     "data": {
      "text/plain": [
       "array([ 1., nan,  0.])"
      ]
     },
     "execution_count": 54,
     "metadata": {},
     "output_type": "execute_result"
    }
   ],
   "source": [
    "# Check out the unique values of the column 'Decision'\n",
    "coffee.Decision.unique()"
   ]
  },
  {
   "cell_type": "markdown",
   "metadata": {
    "colab_type": "text",
    "id": "m1JuiY-iDuV5"
   },
   "source": [
    "We now want to replace `1.0` and `0.0` in the `Decision` column by `YES` and `NO` respectively."
   ]
  },
  {
   "cell_type": "code",
   "execution_count": 55,
   "metadata": {
    "colab": {},
    "colab_type": "code",
    "id": "QsK6gYPgDuV5"
   },
   "outputs": [],
   "source": [
    "# Replace 1.0 and 0.0 by 'Yes' and 'No'\n",
    "coffee['Decision']= coffee.Decision.replace(1.0, \"YES\")\n",
    "coffee['Decision']= coffee.Decision.replace(0.0, \"NO\")"
   ]
  },
  {
   "cell_type": "code",
   "execution_count": 56,
   "metadata": {
    "colab": {},
    "colab_type": "code",
    "id": "YtHnTZuWDuV9"
   },
   "outputs": [
    {
     "data": {
      "text/plain": [
       "array(['YES', nan, 'NO'], dtype=object)"
      ]
     },
     "execution_count": 56,
     "metadata": {},
     "output_type": "execute_result"
    }
   ],
   "source": [
    "# Check that our replacing those values with 'YES' and 'NO' worked, with unique()\n",
    "coffee.Decision.unique()"
   ]
  },
  {
   "cell_type": "markdown",
   "metadata": {
    "colab_type": "text",
    "id": "CKCt-fBlDuWB"
   },
   "source": [
    "## 2b. Train/test split\n",
    "To execute the train/test split properly, we need to do five things: \n",
    "1. Drop all rows with a null value in the `Decision` column, and save the result as NOPrediction: a dataset that will contain all known values for the decision \n",
    "2. Visualize the data using scatter and boxplots of several variables in the y-axis and the decision on the x-axis\n",
    "3. Get the subset of coffeeData with null values in the `Decision` column, and save that subset as Prediction\n",
    "4. Divide the NOPrediction subset into X and y, and then further divide those subsets into train and test subsets for X and y respectively\n",
    "5. Create dummy variables to deal with categorical inputs"
   ]
  },
  {
   "cell_type": "markdown",
   "metadata": {
    "colab_type": "text",
    "id": "ysHdkIaQDuWB"
   },
   "source": [
    "### 1. Drop all null values within the `Decision` column, and save the result as NoPrediction"
   ]
  },
  {
   "cell_type": "code",
   "execution_count": 57,
   "metadata": {
    "colab": {},
    "colab_type": "code",
    "id": "pvgH6SM4DuWC"
   },
   "outputs": [
    {
     "data": {
      "text/html": [
       "<div>\n",
       "<style scoped>\n",
       "    .dataframe tbody tr th:only-of-type {\n",
       "        vertical-align: middle;\n",
       "    }\n",
       "\n",
       "    .dataframe tbody tr th {\n",
       "        vertical-align: top;\n",
       "    }\n",
       "\n",
       "    .dataframe thead th {\n",
       "        text-align: right;\n",
       "    }\n",
       "</style>\n",
       "<table border=\"1\" class=\"dataframe\">\n",
       "  <thead>\n",
       "    <tr style=\"text-align: right;\">\n",
       "      <th></th>\n",
       "      <th>Age</th>\n",
       "      <th>num_coffeeBags_per_year</th>\n",
       "      <th>spent_last_week</th>\n",
       "      <th>spent_last_month</th>\n",
       "      <th>salary</th>\n",
       "      <th>Distance</th>\n",
       "      <th>Online</th>\n",
       "    </tr>\n",
       "  </thead>\n",
       "  <tbody>\n",
       "    <tr>\n",
       "      <th>count</th>\n",
       "      <td>474.000000</td>\n",
       "      <td>474.000000</td>\n",
       "      <td>474.000000</td>\n",
       "      <td>474.000000</td>\n",
       "      <td>474.000000</td>\n",
       "      <td>474.000000</td>\n",
       "      <td>474.000000</td>\n",
       "    </tr>\n",
       "    <tr>\n",
       "      <th>mean</th>\n",
       "      <td>35.417722</td>\n",
       "      <td>2.590717</td>\n",
       "      <td>32.592827</td>\n",
       "      <td>106.727848</td>\n",
       "      <td>44731.892405</td>\n",
       "      <td>5.102898</td>\n",
       "      <td>0.512658</td>\n",
       "    </tr>\n",
       "    <tr>\n",
       "      <th>std</th>\n",
       "      <td>13.604135</td>\n",
       "      <td>1.585211</td>\n",
       "      <td>15.758109</td>\n",
       "      <td>56.101085</td>\n",
       "      <td>25567.674430</td>\n",
       "      <td>3.354891</td>\n",
       "      <td>0.500368</td>\n",
       "    </tr>\n",
       "    <tr>\n",
       "      <th>min</th>\n",
       "      <td>16.000000</td>\n",
       "      <td>0.000000</td>\n",
       "      <td>0.000000</td>\n",
       "      <td>0.000000</td>\n",
       "      <td>3150.000000</td>\n",
       "      <td>0.003168</td>\n",
       "      <td>0.000000</td>\n",
       "    </tr>\n",
       "    <tr>\n",
       "      <th>25%</th>\n",
       "      <td>25.000000</td>\n",
       "      <td>1.000000</td>\n",
       "      <td>24.000000</td>\n",
       "      <td>60.000000</td>\n",
       "      <td>27284.250000</td>\n",
       "      <td>2.077965</td>\n",
       "      <td>0.000000</td>\n",
       "    </tr>\n",
       "    <tr>\n",
       "      <th>50%</th>\n",
       "      <td>29.000000</td>\n",
       "      <td>3.000000</td>\n",
       "      <td>35.000000</td>\n",
       "      <td>113.500000</td>\n",
       "      <td>42791.500000</td>\n",
       "      <td>4.832168</td>\n",
       "      <td>1.000000</td>\n",
       "    </tr>\n",
       "    <tr>\n",
       "      <th>75%</th>\n",
       "      <td>49.000000</td>\n",
       "      <td>4.000000</td>\n",
       "      <td>43.000000</td>\n",
       "      <td>150.000000</td>\n",
       "      <td>61621.750000</td>\n",
       "      <td>7.869086</td>\n",
       "      <td>1.000000</td>\n",
       "    </tr>\n",
       "    <tr>\n",
       "      <th>max</th>\n",
       "      <td>90.000000</td>\n",
       "      <td>5.000000</td>\n",
       "      <td>62.000000</td>\n",
       "      <td>210.000000</td>\n",
       "      <td>172658.000000</td>\n",
       "      <td>10.986203</td>\n",
       "      <td>1.000000</td>\n",
       "    </tr>\n",
       "  </tbody>\n",
       "</table>\n",
       "</div>"
      ],
      "text/plain": [
       "              Age  num_coffeeBags_per_year  spent_last_week  spent_last_month  \\\n",
       "count  474.000000               474.000000       474.000000        474.000000   \n",
       "mean    35.417722                 2.590717        32.592827        106.727848   \n",
       "std     13.604135                 1.585211        15.758109         56.101085   \n",
       "min     16.000000                 0.000000         0.000000          0.000000   \n",
       "25%     25.000000                 1.000000        24.000000         60.000000   \n",
       "50%     29.000000                 3.000000        35.000000        113.500000   \n",
       "75%     49.000000                 4.000000        43.000000        150.000000   \n",
       "max     90.000000                 5.000000        62.000000        210.000000   \n",
       "\n",
       "              salary    Distance      Online  \n",
       "count     474.000000  474.000000  474.000000  \n",
       "mean    44731.892405    5.102898    0.512658  \n",
       "std     25567.674430    3.354891    0.500368  \n",
       "min      3150.000000    0.003168    0.000000  \n",
       "25%     27284.250000    2.077965    0.000000  \n",
       "50%     42791.500000    4.832168    1.000000  \n",
       "75%     61621.750000    7.869086    1.000000  \n",
       "max    172658.000000   10.986203    1.000000  "
      ]
     },
     "execution_count": 57,
     "metadata": {},
     "output_type": "execute_result"
    }
   ],
   "source": [
    "# NoPrediction will contain all known values for the decision\n",
    "# Call dropna() on coffeeData, and store the result in a variable NOPrediction \n",
    "# Call describe() on the Decision column of NoPrediction after calling dropna() on coffeeData\n",
    "NOPrediction = coffee.dropna()\n",
    "NOPrediction.describe()"
   ]
  },
  {
   "cell_type": "markdown",
   "metadata": {
    "colab_type": "text",
    "id": "XfTK5Ec6DuWE"
   },
   "source": [
    "### 2. Visualize the data using scatter and boxplots of several variables in the y-axis and the decision on the x-axis"
   ]
  },
  {
   "cell_type": "code",
   "execution_count": 58,
   "metadata": {
    "colab": {},
    "colab_type": "code",
    "id": "5O-M-t3tDuWE"
   },
   "outputs": [
    {
     "data": {
      "image/png": "[encoded data removed]",
      "text/plain": [
       "<Figure size 864x576 with 1 Axes>"
      ]
     },
     "metadata": {
      "needs_background": "light"
     },
     "output_type": "display_data"
    }
   ],
   "source": [
    "# Exploring our new NOPrediction dataset\n",
    "# Make a boxplot on NOPrediction where the x axis is Decision, and the y axis is spent_last_week\n",
    "import seaborn as sns\n",
    "plt.subplots(figsize=(12, 8))\n",
    "sns.boxplot(x=\"Decision\", y=\"spent_last_week\", data=NOPrediction)\n",
    "plt.xlabel('Decision')\n",
    "plt.ylabel('spent_last_week')\n",
    "plt.show()\n"
   ]
  },
  {
   "cell_type": "markdown",
   "metadata": {
    "colab_type": "text",
    "id": "mVqg_HI7DuWG"
   },
   "source": [
    "Can you admissibly conclude anything from this boxplot? Write your answer here:\n",
    "\n"
   ]
  },
  {
   "cell_type": "code",
   "execution_count": 59,
   "metadata": {
    "colab": {},
    "colab_type": "code",
    "id": "q-AyXWSxDuWH"
   },
   "outputs": [
    {
     "data": {
      "image/png": "[encoded data removed]",
      "text/plain": [
       "<Figure size 720x576 with 1 Axes>"
      ]
     },
     "metadata": {
      "needs_background": "light"
     },
     "output_type": "display_data"
    }
   ],
   "source": [
    "# Make a scatterplot on NOPrediction, where x is distance, y is spent_last_month and hue is Decision \n",
    "plt.subplots(figsize = (10, 8))\n",
    "sns.scatterplot(x ='Distance', y= 'spent_last_month', hue = \"Decision\", data = NOPrediction)\n",
    "plt.xlabel('Distance', fontsize = 20)\n",
    "plt.ylabel('spent_last_month',fontsize = 20)\n",
    "plt.show()"
   ]
  },
  {
   "cell_type": "markdown",
   "metadata": {
    "colab_type": "text",
    "id": "I_nr36yZDuWJ"
   },
   "source": [
    "Can you admissibly conclude anything from this scatterplot? Remember: we are trying to build a tree to classify unseen examples. Write your answer here:"
   ]
  },
  {
   "cell_type": "markdown",
   "metadata": {
    "colab_type": "text",
    "id": "oQBPyvehDuWK"
   },
   "source": [
    "### 3. Get the subset of coffeeData with null values in the Decision column, and save that subset as Prediction"
   ]
  },
  {
   "cell_type": "code",
   "execution_count": 60,
   "metadata": {
    "colab": {},
    "colab_type": "code",
    "id": "vcCednqUDuWL"
   },
   "outputs": [
    {
     "data": {
      "text/html": [
       "<div>\n",
       "<style scoped>\n",
       "    .dataframe tbody tr th:only-of-type {\n",
       "        vertical-align: middle;\n",
       "    }\n",
       "\n",
       "    .dataframe tbody tr th {\n",
       "        vertical-align: top;\n",
       "    }\n",
       "\n",
       "    .dataframe thead th {\n",
       "        text-align: right;\n",
       "    }\n",
       "</style>\n",
       "<table border=\"1\" class=\"dataframe\">\n",
       "  <thead>\n",
       "    <tr style=\"text-align: right;\">\n",
       "      <th></th>\n",
       "      <th>Age</th>\n",
       "      <th>Gender</th>\n",
       "      <th>num_coffeeBags_per_year</th>\n",
       "      <th>spent_last_week</th>\n",
       "      <th>spent_last_month</th>\n",
       "      <th>salary</th>\n",
       "      <th>Distance</th>\n",
       "      <th>Online</th>\n",
       "      <th>Decision</th>\n",
       "    </tr>\n",
       "  </thead>\n",
       "  <tbody>\n",
       "    <tr>\n",
       "      <th>1</th>\n",
       "      <td>24</td>\n",
       "      <td>Male</td>\n",
       "      <td>0</td>\n",
       "      <td>44</td>\n",
       "      <td>164</td>\n",
       "      <td>74035</td>\n",
       "      <td>0.520906</td>\n",
       "      <td>0</td>\n",
       "      <td>NaN</td>\n",
       "    </tr>\n",
       "    <tr>\n",
       "      <th>3</th>\n",
       "      <td>20</td>\n",
       "      <td>Male</td>\n",
       "      <td>0</td>\n",
       "      <td>30</td>\n",
       "      <td>107</td>\n",
       "      <td>13166</td>\n",
       "      <td>0.932098</td>\n",
       "      <td>1</td>\n",
       "      <td>NaN</td>\n",
       "    </tr>\n",
       "    <tr>\n",
       "      <th>7</th>\n",
       "      <td>24</td>\n",
       "      <td>Female</td>\n",
       "      <td>0</td>\n",
       "      <td>20</td>\n",
       "      <td>34</td>\n",
       "      <td>17425</td>\n",
       "      <td>1.193188</td>\n",
       "      <td>0</td>\n",
       "      <td>NaN</td>\n",
       "    </tr>\n",
       "    <tr>\n",
       "      <th>11</th>\n",
       "      <td>24</td>\n",
       "      <td>Female</td>\n",
       "      <td>0</td>\n",
       "      <td>40</td>\n",
       "      <td>153</td>\n",
       "      <td>84803</td>\n",
       "      <td>1.655096</td>\n",
       "      <td>1</td>\n",
       "      <td>NaN</td>\n",
       "    </tr>\n",
       "    <tr>\n",
       "      <th>12</th>\n",
       "      <td>21</td>\n",
       "      <td>Female</td>\n",
       "      <td>0</td>\n",
       "      <td>38</td>\n",
       "      <td>122</td>\n",
       "      <td>42338</td>\n",
       "      <td>1.714179</td>\n",
       "      <td>1</td>\n",
       "      <td>NaN</td>\n",
       "    </tr>\n",
       "  </tbody>\n",
       "</table>\n",
       "</div>"
      ],
      "text/plain": [
       "    Age  Gender  num_coffeeBags_per_year  spent_last_week  spent_last_month  \\\n",
       "1    24    Male                        0               44               164   \n",
       "3    20    Male                        0               30               107   \n",
       "7    24  Female                        0               20                34   \n",
       "11   24  Female                        0               40               153   \n",
       "12   21  Female                        0               38               122   \n",
       "\n",
       "    salary  Distance  Online Decision  \n",
       "1    74035  0.520906       0      NaN  \n",
       "3    13166  0.932098       1      NaN  \n",
       "7    17425  1.193188       0      NaN  \n",
       "11   84803  1.655096       1      NaN  \n",
       "12   42338  1.714179       1      NaN  "
      ]
     },
     "execution_count": 60,
     "metadata": {},
     "output_type": "execute_result"
    }
   ],
   "source": [
    "# Get just those rows whose value for the Decision column is null  \n",
    "prediction = coffee.loc[coffee.Decision.isna()]\n",
    "prediction.head(5)\n"
   ]
  },
  {
   "cell_type": "code",
   "execution_count": 61,
   "metadata": {
    "colab": {},
    "colab_type": "code",
    "id": "aenlmp9NDuWM"
   },
   "outputs": [
    {
     "data": {
      "text/html": [
       "<div>\n",
       "<style scoped>\n",
       "    .dataframe tbody tr th:only-of-type {\n",
       "        vertical-align: middle;\n",
       "    }\n",
       "\n",
       "    .dataframe tbody tr th {\n",
       "        vertical-align: top;\n",
       "    }\n",
       "\n",
       "    .dataframe thead th {\n",
       "        text-align: right;\n",
       "    }\n",
       "</style>\n",
       "<table border=\"1\" class=\"dataframe\">\n",
       "  <thead>\n",
       "    <tr style=\"text-align: right;\">\n",
       "      <th></th>\n",
       "      <th>Age</th>\n",
       "      <th>num_coffeeBags_per_year</th>\n",
       "      <th>spent_last_week</th>\n",
       "      <th>spent_last_month</th>\n",
       "      <th>salary</th>\n",
       "      <th>Distance</th>\n",
       "      <th>Online</th>\n",
       "    </tr>\n",
       "  </thead>\n",
       "  <tbody>\n",
       "    <tr>\n",
       "      <th>count</th>\n",
       "      <td>228.000000</td>\n",
       "      <td>228.000000</td>\n",
       "      <td>228.000000</td>\n",
       "      <td>228.000000</td>\n",
       "      <td>228.000000</td>\n",
       "      <td>228.000000</td>\n",
       "      <td>228.000000</td>\n",
       "    </tr>\n",
       "    <tr>\n",
       "      <th>mean</th>\n",
       "      <td>31.802632</td>\n",
       "      <td>2.960526</td>\n",
       "      <td>33.394737</td>\n",
       "      <td>110.407895</td>\n",
       "      <td>41923.741228</td>\n",
       "      <td>3.428836</td>\n",
       "      <td>0.570175</td>\n",
       "    </tr>\n",
       "    <tr>\n",
       "      <th>std</th>\n",
       "      <td>14.302293</td>\n",
       "      <td>1.585514</td>\n",
       "      <td>15.697930</td>\n",
       "      <td>53.786536</td>\n",
       "      <td>27406.768360</td>\n",
       "      <td>2.153102</td>\n",
       "      <td>0.496140</td>\n",
       "    </tr>\n",
       "    <tr>\n",
       "      <th>min</th>\n",
       "      <td>16.000000</td>\n",
       "      <td>0.000000</td>\n",
       "      <td>0.000000</td>\n",
       "      <td>0.000000</td>\n",
       "      <td>1617.000000</td>\n",
       "      <td>0.010048</td>\n",
       "      <td>0.000000</td>\n",
       "    </tr>\n",
       "    <tr>\n",
       "      <th>25%</th>\n",
       "      <td>22.000000</td>\n",
       "      <td>2.000000</td>\n",
       "      <td>25.750000</td>\n",
       "      <td>65.000000</td>\n",
       "      <td>15911.500000</td>\n",
       "      <td>1.699408</td>\n",
       "      <td>0.000000</td>\n",
       "    </tr>\n",
       "    <tr>\n",
       "      <th>50%</th>\n",
       "      <td>25.000000</td>\n",
       "      <td>3.000000</td>\n",
       "      <td>37.000000</td>\n",
       "      <td>113.500000</td>\n",
       "      <td>40987.500000</td>\n",
       "      <td>3.208673</td>\n",
       "      <td>1.000000</td>\n",
       "    </tr>\n",
       "    <tr>\n",
       "      <th>75%</th>\n",
       "      <td>39.000000</td>\n",
       "      <td>4.000000</td>\n",
       "      <td>44.000000</td>\n",
       "      <td>151.250000</td>\n",
       "      <td>58537.000000</td>\n",
       "      <td>5.261184</td>\n",
       "      <td>1.000000</td>\n",
       "    </tr>\n",
       "    <tr>\n",
       "      <th>max</th>\n",
       "      <td>67.000000</td>\n",
       "      <td>5.000000</td>\n",
       "      <td>62.000000</td>\n",
       "      <td>210.000000</td>\n",
       "      <td>182058.000000</td>\n",
       "      <td>10.871566</td>\n",
       "      <td>1.000000</td>\n",
       "    </tr>\n",
       "  </tbody>\n",
       "</table>\n",
       "</div>"
      ],
      "text/plain": [
       "              Age  num_coffeeBags_per_year  spent_last_week  spent_last_month  \\\n",
       "count  228.000000               228.000000       228.000000        228.000000   \n",
       "mean    31.802632                 2.960526        33.394737        110.407895   \n",
       "std     14.302293                 1.585514        15.697930         53.786536   \n",
       "min     16.000000                 0.000000         0.000000          0.000000   \n",
       "25%     22.000000                 2.000000        25.750000         65.000000   \n",
       "50%     25.000000                 3.000000        37.000000        113.500000   \n",
       "75%     39.000000                 4.000000        44.000000        151.250000   \n",
       "max     67.000000                 5.000000        62.000000        210.000000   \n",
       "\n",
       "              salary    Distance      Online  \n",
       "count     228.000000  228.000000  228.000000  \n",
       "mean    41923.741228    3.428836    0.570175  \n",
       "std     27406.768360    2.153102    0.496140  \n",
       "min      1617.000000    0.010048    0.000000  \n",
       "25%     15911.500000    1.699408    0.000000  \n",
       "50%     40987.500000    3.208673    1.000000  \n",
       "75%     58537.000000    5.261184    1.000000  \n",
       "max    182058.000000   10.871566    1.000000  "
      ]
     },
     "execution_count": 61,
     "metadata": {},
     "output_type": "execute_result"
    }
   ],
   "source": [
    "# Call describe() on Prediction\n",
    "prediction.describe()"
   ]
  },
  {
   "cell_type": "markdown",
   "metadata": {
    "colab_type": "text",
    "id": "zmN_BPwFDuWO"
   },
   "source": [
    "### 4. Divide the NOPrediction subset into X and y"
   ]
  },
  {
   "cell_type": "code",
   "execution_count": 62,
   "metadata": {
    "colab": {},
    "colab_type": "code",
    "id": "00WtPVYSDuWP"
   },
   "outputs": [
    {
     "data": {
      "text/plain": [
       "Index(['Age', 'Gender', 'num_coffeeBags_per_year', 'spent_last_week',\n",
       "       'spent_last_month', 'salary', 'Distance', 'Online', 'Decision'],\n",
       "      dtype='object')"
      ]
     },
     "execution_count": 62,
     "metadata": {},
     "output_type": "execute_result"
    }
   ],
   "source": [
    "# Check the names of the columns of NOPrediction\n",
    "NOPrediction.columns"
   ]
  },
  {
   "cell_type": "code",
   "execution_count": 63,
   "metadata": {
    "colab": {},
    "colab_type": "code",
    "id": "oPi2gMLfDuWQ"
   },
   "outputs": [],
   "source": [
    "# Let's do our feature selection.\n",
    "# Make a variable called 'features', and a list containing the strings of every column except \"Decision\"\n",
    "features = NOPrediction.drop(columns=['Decision'])\n",
    "# Make an explanatory variable called X, and assign it: NoPrediction[features]\n",
    "X= NOPrediction.drop(columns=['Decision'])\n",
    "# Make a dependent variable called y, and assign it: NoPrediction.Decision\n",
    "y = NOPrediction.Decision"
   ]
  },
  {
   "cell_type": "markdown",
   "metadata": {
    "colab_type": "text",
    "id": "R-d3XOv8DuWW"
   },
   "source": [
    "### 5. Create dummy variables to deal with categorical inputs\n",
    "One-hot encoding replaces each unique value of a given column with a new column, and puts a 1 in the new column for a given row just if its initial value for the original column matches the new column. Check out [this resource](https://hackernoon.com/what-is-one-hot-encoding-why-and-when-do-you-have-to-use-it-e3c6186d008f) if you haven't seen one-hot-encoding before. \n",
    "\n",
    "**Note**: We will do this before we do our train/test split as to do it after could mean that some categories only end up in the train or test split of our data by chance and this would then lead to different shapes of data for our `X_train` and `X_test` which could/would cause downstream issues when fitting or predicting using a trained model."
   ]
  },
  {
   "cell_type": "code",
   "execution_count": 64,
   "metadata": {
    "colab": {},
    "colab_type": "code",
    "id": "xXHGDZkZDuWW"
   },
   "outputs": [],
   "source": [
    "# One-hot encode all features in X.\n",
    "#X_train = pd.get_dummies(X_train)\n",
    "#X_test = pd.get_dummies(X-test)"
   ]
  },
  {
   "cell_type": "markdown",
   "metadata": {
    "colab_type": "text",
    "id": "Jdn_dHlkDuWS"
   },
   "source": [
    "### 6. Further divide those subsets into train and test subsets for X and y respectively: X_train, X_test, y_train, y_test"
   ]
  },
  {
   "cell_type": "code",
   "execution_count": 65,
   "metadata": {
    "colab": {},
    "colab_type": "code",
    "id": "RqbHQza-DuWT"
   },
   "outputs": [],
   "source": [
    "# Call train_test_split on X, y. Make the test_size = 0.25, and random_state = 246\n",
    "from sklearn.model_selection import train_test_split\n",
    "from sklearn.linear_model import LogisticRegression\n",
    "from sklearn.metrics import accuracy_score\n",
    "\n",
    "# divide those subsets into train and test\n",
    "X_train,X_test, y_train, y_test = train_test_split(X, y,test_size = 0.25,random_state=246)\n",
    "\n"
   ]
  },
  {
   "cell_type": "code",
   "execution_count": 66,
   "metadata": {},
   "outputs": [],
   "source": [
    "# One-hot encode all features in X.\n",
    "X_train = pd.get_dummies(X_train)\n",
    "X_test = pd.get_dummies(X_test)"
   ]
  },
  {
   "cell_type": "markdown",
   "metadata": {
    "colab_type": "text",
    "id": "nqvyCX-6DuWb"
   },
   "source": [
    "# 3. Modelling\n",
    "It's useful to look at the scikit-learn documentation on decision trees https://scikit-learn.org/stable/modules/tree.html before launching into applying them. If you haven't seen them before, take a look at that link, in particular the section `1.10.5.` "
   ]
  },
  {
   "cell_type": "markdown",
   "metadata": {
    "colab_type": "text",
    "id": "RIm9IN5HDuWc"
   },
   "source": [
    "## Model 1: Entropy model - no max_depth\n",
    "\n",
    "We'll give you a little more guidance here, as the Python is hard to deduce, and scikitlearn takes some getting used to.\n",
    "\n",
    "Theoretically, let's remind ourselves of what's going on with a decision tree implementing an entropy model.\n",
    "\n",
    "Ross Quinlan's **ID3 Algorithm** was one of the first, and one of the most basic, to use entropy as a metric.\n",
    "\n",
    "**Entropy** is a measure of how uncertain we are about which category the data-points fall into at a given point in the tree. The **Information gain** of a specific feature with a threshold (such as 'spent_last_month <= 138.0') is the difference in entropy that exists before and after splitting on that feature; i.e., the information we gain about the categories of the data-points by splitting on that feature and that threshold. \n",
    "\n",
    "Naturally, we want to minimize entropy and maximize information gain. Quinlan's ID3 algorithm is designed to output a tree such that the features at each node, starting from the root, and going all the way down to the leaves, have maximial information gain. We want a tree whose leaves have elements that are *homogeneous*, that is, all of the same category. \n",
    "\n",
    "The first model will be the hardest. Persevere and you'll reap the rewards: you can use almost exactly the same code for the other models. "
   ]
  },
  {
   "cell_type": "code",
   "execution_count": null,
   "metadata": {},
   "outputs": [],
   "source": []
  },
  {
   "cell_type": "code",
   "execution_count": 68,
   "metadata": {
    "colab": {},
    "colab_type": "code",
    "id": "8-gelLDgDuWc"
   },
   "outputs": [
    {
     "data": {
      "text/plain": [
       "DecisionTreeClassifier(criterion='entropy', random_state=1234)"
      ]
     },
     "execution_count": 68,
     "metadata": {},
     "output_type": "execute_result"
    }
   ],
   "source": [
    "# Declare a variable called entr_model and use tree.DecisionTreeClassifier. \n",
    "entr_model=tree.DecisionTreeClassifier(criterion=\"entropy\", random_state = 1234)\n",
    "\n",
    "# Call fit() on entr_model\n",
    "entr_model.fit(X_train,y_train)\n",
    "\n",
    "# Call predict() on entr_model with X_test passed to it, and assign the result to a variable y_pred \n",
    "y_pred=entr_model.predict(X_test)\n",
    "\n",
    "# Call Series on our y_pred variable with the following: pd.Series(y_pred)\n",
    "y_pred=pd.Series(y_pred)\n",
    "\n",
    "# Check out entr_model\n",
    "entr_model"
   ]
  },
  {
   "cell_type": "code",
   "execution_count": 69,
   "metadata": {
    "colab": {},
    "colab_type": "code",
    "id": "S4FbHfWnDuWe"
   },
   "outputs": [
    {
     "ename": "AttributeError",
     "evalue": "module 'graphviz.backend' has no attribute 'ENCODING'",
     "output_type": "error",
     "traceback": [
      "\u001b[1;31m---------------------------------------------------------------------------\u001b[0m",
      "\u001b[1;31mAttributeError\u001b[0m                            Traceback (most recent call last)",
      "\u001b[1;32m<ipython-input-69-175412377543>\u001b[0m in \u001b[0;36m<module>\u001b[1;34m\u001b[0m\n\u001b[0;32m      1\u001b[0m \u001b[1;31m# Now we want to visualize the tree\u001b[0m\u001b[1;33m\u001b[0m\u001b[1;33m\u001b[0m\u001b[1;33m\u001b[0m\u001b[0m\n\u001b[1;32m----> 2\u001b[1;33m \u001b[1;32mimport\u001b[0m \u001b[0mgraphviz\u001b[0m\u001b[1;33m\u001b[0m\u001b[1;33m\u001b[0m\u001b[0m\n\u001b[0m\u001b[0;32m      3\u001b[0m \u001b[0mdot_data\u001b[0m \u001b[1;33m=\u001b[0m \u001b[0mStringIO\u001b[0m\u001b[1;33m(\u001b[0m\u001b[1;33m)\u001b[0m\u001b[1;33m\u001b[0m\u001b[1;33m\u001b[0m\u001b[0m\n\u001b[0;32m      4\u001b[0m \u001b[1;33m\u001b[0m\u001b[0m\n\u001b[0;32m      5\u001b[0m \u001b[1;31m# We can do so with export_graphviz\u001b[0m\u001b[1;33m\u001b[0m\u001b[1;33m\u001b[0m\u001b[1;33m\u001b[0m\u001b[0m\n",
      "\u001b[1;32m~\\anaconda\\lib\\site-packages\\graphviz\\__init__.py\u001b[0m in \u001b[0;36m<module>\u001b[1;34m\u001b[0m\n\u001b[0;32m     25\u001b[0m \"\"\"\n\u001b[0;32m     26\u001b[0m \u001b[1;33m\u001b[0m\u001b[0m\n\u001b[1;32m---> 27\u001b[1;33m \u001b[1;32mfrom\u001b[0m \u001b[1;33m.\u001b[0m\u001b[0mdot\u001b[0m \u001b[1;32mimport\u001b[0m \u001b[0mGraph\u001b[0m\u001b[1;33m,\u001b[0m \u001b[0mDigraph\u001b[0m\u001b[1;33m\u001b[0m\u001b[1;33m\u001b[0m\u001b[0m\n\u001b[0m\u001b[0;32m     28\u001b[0m \u001b[1;32mfrom\u001b[0m \u001b[1;33m.\u001b[0m\u001b[0mfiles\u001b[0m \u001b[1;32mimport\u001b[0m \u001b[0mSource\u001b[0m\u001b[1;33m\u001b[0m\u001b[1;33m\u001b[0m\u001b[0m\n\u001b[0;32m     29\u001b[0m \u001b[1;32mfrom\u001b[0m \u001b[1;33m.\u001b[0m\u001b[0mlang\u001b[0m \u001b[1;32mimport\u001b[0m \u001b[0mescape\u001b[0m\u001b[1;33m,\u001b[0m \u001b[0mnohtml\u001b[0m\u001b[1;33m\u001b[0m\u001b[1;33m\u001b[0m\u001b[0m\n",
      "\u001b[1;32m~\\anaconda\\lib\\site-packages\\graphviz\\dot.py\u001b[0m in \u001b[0;36m<module>\u001b[1;34m\u001b[0m\n\u001b[0;32m     30\u001b[0m \u001b[1;33m\u001b[0m\u001b[0m\n\u001b[0;32m     31\u001b[0m \u001b[1;32mfrom\u001b[0m \u001b[1;33m.\u001b[0m \u001b[1;32mimport\u001b[0m \u001b[0mbackend\u001b[0m\u001b[1;33m\u001b[0m\u001b[1;33m\u001b[0m\u001b[0m\n\u001b[1;32m---> 32\u001b[1;33m \u001b[1;32mfrom\u001b[0m \u001b[1;33m.\u001b[0m \u001b[1;32mimport\u001b[0m \u001b[0mfiles\u001b[0m\u001b[1;33m\u001b[0m\u001b[1;33m\u001b[0m\u001b[0m\n\u001b[0m\u001b[0;32m     33\u001b[0m \u001b[1;32mfrom\u001b[0m \u001b[1;33m.\u001b[0m \u001b[1;32mimport\u001b[0m \u001b[0mlang\u001b[0m\u001b[1;33m\u001b[0m\u001b[1;33m\u001b[0m\u001b[0m\n\u001b[0;32m     34\u001b[0m \u001b[1;33m\u001b[0m\u001b[0m\n",
      "\u001b[1;32m~\\anaconda\\lib\\site-packages\\graphviz\\files.py\u001b[0m in \u001b[0;36m<module>\u001b[1;34m\u001b[0m\n\u001b[0;32m     20\u001b[0m \u001b[1;33m\u001b[0m\u001b[0m\n\u001b[0;32m     21\u001b[0m \u001b[1;33m\u001b[0m\u001b[0m\n\u001b[1;32m---> 22\u001b[1;33m \u001b[1;32mclass\u001b[0m \u001b[0mBase\u001b[0m\u001b[1;33m(\u001b[0m\u001b[0mobject\u001b[0m\u001b[1;33m)\u001b[0m\u001b[1;33m:\u001b[0m\u001b[1;33m\u001b[0m\u001b[1;33m\u001b[0m\u001b[0m\n\u001b[0m\u001b[0;32m     23\u001b[0m \u001b[1;33m\u001b[0m\u001b[0m\n\u001b[0;32m     24\u001b[0m     \u001b[0m_engine\u001b[0m \u001b[1;33m=\u001b[0m \u001b[1;34m'dot'\u001b[0m\u001b[1;33m\u001b[0m\u001b[1;33m\u001b[0m\u001b[0m\n",
      "\u001b[1;32m~\\anaconda\\lib\\site-packages\\graphviz\\files.py\u001b[0m in \u001b[0;36mBase\u001b[1;34m()\u001b[0m\n\u001b[0;32m     26\u001b[0m     \u001b[0m_format\u001b[0m \u001b[1;33m=\u001b[0m \u001b[1;34m'pdf'\u001b[0m\u001b[1;33m\u001b[0m\u001b[1;33m\u001b[0m\u001b[0m\n\u001b[0;32m     27\u001b[0m \u001b[1;33m\u001b[0m\u001b[0m\n\u001b[1;32m---> 28\u001b[1;33m     \u001b[0m_encoding\u001b[0m \u001b[1;33m=\u001b[0m \u001b[0mbackend\u001b[0m\u001b[1;33m.\u001b[0m\u001b[0mENCODING\u001b[0m\u001b[1;33m\u001b[0m\u001b[1;33m\u001b[0m\u001b[0m\n\u001b[0m\u001b[0;32m     29\u001b[0m \u001b[1;33m\u001b[0m\u001b[0m\n\u001b[0;32m     30\u001b[0m     \u001b[1;33m@\u001b[0m\u001b[0mproperty\u001b[0m\u001b[1;33m\u001b[0m\u001b[1;33m\u001b[0m\u001b[0m\n",
      "\u001b[1;31mAttributeError\u001b[0m: module 'graphviz.backend' has no attribute 'ENCODING'"
     ]
    }
   ],
   "source": [
    "# Now we want to visualize the tree\n",
    "import graphviz\n",
    "dot_data = StringIO()\n",
    "\n",
    "# We can do so with export_graphviz\n",
    "tree.export_graphviz(entr_model, out_file=dot_data,  \n",
    "                filled=True, rounded=True,\n",
    "                special_characters=True, feature_names=X_train.columns,class_names = [\"NO\", \"YES\"]) \n",
    "# Alternatively for class_names use entr_model.classes_\n",
    "graph = pydotplus.graph_from_dot_data(dot_data.getvalue())  \n",
    "Image(graph.create_png())"
   ]
  },
  {
   "cell_type": "markdown",
   "metadata": {
    "colab_type": "text",
    "id": "dFbii4IADuWg"
   },
   "source": [
    "## Model 1: Entropy model - no max_depth: Interpretation and evaluation"
   ]
  },
  {
   "cell_type": "code",
   "execution_count": 70,
   "metadata": {
    "colab": {},
    "colab_type": "code",
    "id": "XRL0klK4DuWh"
   },
   "outputs": [
    {
     "name": "stdout",
     "output_type": "stream",
     "text": [
      "Model Entropy - no max depth\n",
      "Accuracy: 0.9915966386554622\n",
      "Balanced accuracy: 0.9878048780487805\n",
      "Precision score for \"Yes\" 0.9873417721518988\n",
      "Precision score for \"No\" 1.0\n",
      "Recall score for \"Yes\" 1.0\n",
      "Recall score for \"No\" 0.975609756097561\n"
     ]
    }
   ],
   "source": [
    "# Run this block for model evaluation metrics \n",
    "print(\"Model Entropy - no max depth\")\n",
    "print(\"Accuracy:\", metrics.accuracy_score(y_test,y_pred))\n",
    "print(\"Balanced accuracy:\", metrics.balanced_accuracy_score(y_test,y_pred))\n",
    "print('Precision score for \"Yes\"' , metrics.precision_score(y_test,y_pred, pos_label = \"YES\"))\n",
    "print('Precision score for \"No\"' , metrics.precision_score(y_test,y_pred, pos_label = \"NO\"))\n",
    "print('Recall score for \"Yes\"' , metrics.recall_score(y_test,y_pred, pos_label = \"YES\"))\n",
    "print('Recall score for \"No\"' , metrics.recall_score(y_test,y_pred, pos_label = \"NO\"))"
   ]
  },
  {
   "cell_type": "markdown",
   "metadata": {
    "colab_type": "text",
    "id": "icGOPFQ_DuWj"
   },
   "source": [
    "What can you infer from these results? Write your conclusions here:"
   ]
  },
  {
   "cell_type": "markdown",
   "metadata": {
    "colab_type": "text",
    "id": "MHipdpfxDuWk"
   },
   "source": [
    "## Model 2: Gini impurity model - no max_depth\n",
    "\n",
    "Gini impurity, like entropy, is a measure of how well a given feature (and threshold) splits the data into categories.\n",
    "\n",
    "Their equations are similar, but Gini impurity doesn't require logorathmic functions, which can be computationally expensive. "
   ]
  },
  {
   "cell_type": "code",
   "execution_count": 71,
   "metadata": {
    "colab": {},
    "colab_type": "code",
    "id": "FyBljeIpDuWl"
   },
   "outputs": [
    {
     "data": {
      "text/plain": [
       "DecisionTreeClassifier(random_state=1234)"
      ]
     },
     "execution_count": 71,
     "metadata": {},
     "output_type": "execute_result"
    }
   ],
   "source": [
    "# Make a variable called gini_model, and assign it exactly what you assigned entr_model with above, but with the\n",
    "# criterion changed to 'gini'\n",
    "gini_model = tree.DecisionTreeClassifier(criterion = \"gini\",  random_state = 1234)\n",
    "# Call fit() on the gini_model as you did with the entr_model\n",
    "gini_model.fit(X_train, y_train)\n",
    "\n",
    "# Call predict() on the gini_model as you did with the entr_model y_pred\n",
    "y_pred = gini_model.predict(X_test)\n",
    "# Turn y_pred into a series, as before\n",
    "y_pred = pd.Series(y_pred)\n",
    "\n",
    "# Check out gini_model\n",
    "gini_model"
   ]
  },
  {
   "cell_type": "code",
   "execution_count": 72,
   "metadata": {
    "colab": {},
    "colab_type": "code",
    "id": "d20SMUmgDuWo"
   },
   "outputs": [
    {
     "ename": "InvocationException",
     "evalue": "GraphViz's executables not found",
     "output_type": "error",
     "traceback": [
      "\u001b[1;31m---------------------------------------------------------------------------\u001b[0m",
      "\u001b[1;31mInvocationException\u001b[0m                       Traceback (most recent call last)",
      "\u001b[1;32m<ipython-input-72-20c1bf278136>\u001b[0m in \u001b[0;36m<module>\u001b[1;34m\u001b[0m\n\u001b[0;32m      8\u001b[0m \u001b[1;31m# Alternatively for class_names use gini_model.classes_\u001b[0m\u001b[1;33m\u001b[0m\u001b[1;33m\u001b[0m\u001b[1;33m\u001b[0m\u001b[0m\n\u001b[0;32m      9\u001b[0m \u001b[0mgraph\u001b[0m \u001b[1;33m=\u001b[0m \u001b[0mpydotplus\u001b[0m\u001b[1;33m.\u001b[0m\u001b[0mgraph_from_dot_data\u001b[0m\u001b[1;33m(\u001b[0m\u001b[0mdot_data\u001b[0m\u001b[1;33m.\u001b[0m\u001b[0mgetvalue\u001b[0m\u001b[1;33m(\u001b[0m\u001b[1;33m)\u001b[0m\u001b[1;33m)\u001b[0m\u001b[1;33m\u001b[0m\u001b[1;33m\u001b[0m\u001b[0m\n\u001b[1;32m---> 10\u001b[1;33m \u001b[0mImage\u001b[0m\u001b[1;33m(\u001b[0m\u001b[0mgraph\u001b[0m\u001b[1;33m.\u001b[0m\u001b[0mcreate_png\u001b[0m\u001b[1;33m(\u001b[0m\u001b[1;33m)\u001b[0m\u001b[1;33m)\u001b[0m\u001b[1;33m\u001b[0m\u001b[1;33m\u001b[0m\u001b[0m\n\u001b[0m",
      "\u001b[1;32m~\\anaconda\\lib\\site-packages\\pydotplus\\graphviz.py\u001b[0m in \u001b[0;36m<lambda>\u001b[1;34m(f, prog)\u001b[0m\n\u001b[0;32m   1795\u001b[0m             self.__setattr__(\n\u001b[0;32m   1796\u001b[0m                 \u001b[1;34m'create_'\u001b[0m \u001b[1;33m+\u001b[0m \u001b[0mfrmt\u001b[0m\u001b[1;33m,\u001b[0m\u001b[1;33m\u001b[0m\u001b[1;33m\u001b[0m\u001b[0m\n\u001b[1;32m-> 1797\u001b[1;33m                 \u001b[1;32mlambda\u001b[0m \u001b[0mf\u001b[0m\u001b[1;33m=\u001b[0m\u001b[0mfrmt\u001b[0m\u001b[1;33m,\u001b[0m \u001b[0mprog\u001b[0m\u001b[1;33m=\u001b[0m\u001b[0mself\u001b[0m\u001b[1;33m.\u001b[0m\u001b[0mprog\u001b[0m\u001b[1;33m:\u001b[0m \u001b[0mself\u001b[0m\u001b[1;33m.\u001b[0m\u001b[0mcreate\u001b[0m\u001b[1;33m(\u001b[0m\u001b[0mformat\u001b[0m\u001b[1;33m=\u001b[0m\u001b[0mf\u001b[0m\u001b[1;33m,\u001b[0m \u001b[0mprog\u001b[0m\u001b[1;33m=\u001b[0m\u001b[0mprog\u001b[0m\u001b[1;33m)\u001b[0m\u001b[1;33m\u001b[0m\u001b[1;33m\u001b[0m\u001b[0m\n\u001b[0m\u001b[0;32m   1798\u001b[0m             )\n\u001b[0;32m   1799\u001b[0m             \u001b[0mf\u001b[0m \u001b[1;33m=\u001b[0m \u001b[0mself\u001b[0m\u001b[1;33m.\u001b[0m\u001b[0m__dict__\u001b[0m\u001b[1;33m[\u001b[0m\u001b[1;34m'create_'\u001b[0m \u001b[1;33m+\u001b[0m \u001b[0mfrmt\u001b[0m\u001b[1;33m]\u001b[0m\u001b[1;33m\u001b[0m\u001b[1;33m\u001b[0m\u001b[0m\n",
      "\u001b[1;32m~\\anaconda\\lib\\site-packages\\pydotplus\\graphviz.py\u001b[0m in \u001b[0;36mcreate\u001b[1;34m(self, prog, format)\u001b[0m\n\u001b[0;32m   1957\u001b[0m             \u001b[0mself\u001b[0m\u001b[1;33m.\u001b[0m\u001b[0mprogs\u001b[0m \u001b[1;33m=\u001b[0m \u001b[0mfind_graphviz\u001b[0m\u001b[1;33m(\u001b[0m\u001b[1;33m)\u001b[0m\u001b[1;33m\u001b[0m\u001b[1;33m\u001b[0m\u001b[0m\n\u001b[0;32m   1958\u001b[0m             \u001b[1;32mif\u001b[0m \u001b[0mself\u001b[0m\u001b[1;33m.\u001b[0m\u001b[0mprogs\u001b[0m \u001b[1;32mis\u001b[0m \u001b[1;32mNone\u001b[0m\u001b[1;33m:\u001b[0m\u001b[1;33m\u001b[0m\u001b[1;33m\u001b[0m\u001b[0m\n\u001b[1;32m-> 1959\u001b[1;33m                 raise InvocationException(\n\u001b[0m\u001b[0;32m   1960\u001b[0m                     'GraphViz\\'s executables not found')\n\u001b[0;32m   1961\u001b[0m \u001b[1;33m\u001b[0m\u001b[0m\n",
      "\u001b[1;31mInvocationException\u001b[0m: GraphViz's executables not found"
     ]
    }
   ],
   "source": [
    "# As before, but make the model name gini_model\n",
    "dot_data= StringIO()\n",
    "\n",
    "#export_graphviz\n",
    "tree.export_graphviz(gini_model, out_file = dot_data,\n",
    "                     filled = True, rounded = True,\n",
    "                     special_characters = True, feature_names = X_train.columns, class_names = [\"NO\", \"YES\"])\n",
    "# Alternatively for class_names use gini_model.classes_\n",
    "graph = pydotplus.graph_from_dot_data(dot_data.getvalue())\n",
    "Image(graph.create_png())"
   ]
  },
  {
   "cell_type": "code",
   "execution_count": 73,
   "metadata": {
    "colab": {},
    "colab_type": "code",
    "id": "T0RadBy0DuWp"
   },
   "outputs": [
    {
     "name": "stdout",
     "output_type": "stream",
     "text": [
      "Model Gini impurity model\n",
      "Accuracy: 0.9831932773109243\n",
      "Balanced accuracy: 0.9813946216385241\n",
      "Precision score 0.9871794871794872\n",
      "Recall score 0.975609756097561\n"
     ]
    }
   ],
   "source": [
    "# Run this block for model evaluation\n",
    "print(\"Model Gini impurity model\")\n",
    "print(\"Accuracy:\", metrics.accuracy_score(y_test,y_pred))\n",
    "print(\"Balanced accuracy:\", metrics.balanced_accuracy_score(y_test,y_pred))\n",
    "print('Precision score' , metrics.precision_score(y_test,y_pred, pos_label = \"YES\"))\n",
    "print('Recall score' , metrics.recall_score(y_test,y_pred, pos_label = \"NO\"))"
   ]
  },
  {
   "cell_type": "markdown",
   "metadata": {
    "colab_type": "text",
    "id": "LR5LkC_yDuWs"
   },
   "source": [
    "How do the results here compare to the previous model? Write your judgements here: "
   ]
  },
  {
   "cell_type": "markdown",
   "metadata": {
    "colab_type": "text",
    "id": "3PctBjTADuWs"
   },
   "source": [
    "## Model 3: Entropy model - max depth 3\n",
    "We're going to try to limit the depth of our decision tree, using entropy first.  \n",
    "\n",
    "As you know, we need to strike a balance with tree depth. \n",
    "\n",
    "Insufficiently deep, and we're not giving the tree the opportunity to spot the right patterns in the training data.\n",
    "\n",
    "Excessively deep, and we're probably going to make a tree that overfits to the training data, at the cost of very high error on the (hitherto unseen) test data. \n",
    "\n",
    "Sophisticated data scientists use methods like random search with cross-validation to systematically find a good depth for their tree. We'll start with picking 3, and see how that goes. "
   ]
  },
  {
   "cell_type": "code",
   "execution_count": 75,
   "metadata": {
    "colab": {},
    "colab_type": "code",
    "id": "cMiPjWClDuWt"
   },
   "outputs": [
    {
     "data": {
      "text/plain": [
       "DecisionTreeClassifier(criterion='entropy', max_depth=3, random_state=1234)"
      ]
     },
     "execution_count": 75,
     "metadata": {},
     "output_type": "execute_result"
    }
   ],
   "source": [
    "# Made a model as before, but call it entr_model2, and make the max_depth parameter equal to 3. \n",
    "# Execute the fitting, predicting, and Series operations as before\n",
    "entr_model2=tree.DecisionTreeClassifier(criterion=\"entropy\", max_depth = 3, random_state = 1234)\n",
    "\n",
    "# Call fit() on entr_model\n",
    "entr_model2.fit(X_train,y_train)\n",
    "\n",
    "# Call predict() on entr_model with X_test passed to it, and assign the result to a variable y_pred \n",
    "y_pred=entr_model2.predict(X_test)\n",
    "\n",
    "# Call Series on our y_pred variable with the following: pd.Series(y_pred)\n",
    "y_pred=pd.Series(y_pred)\n",
    "\n",
    "# Check out entr_model\n",
    "entr_model2"
   ]
  },
  {
   "cell_type": "code",
   "execution_count": 76,
   "metadata": {
    "colab": {},
    "colab_type": "code",
    "id": "IRuw72VMDuWv"
   },
   "outputs": [
    {
     "ename": "InvocationException",
     "evalue": "GraphViz's executables not found",
     "output_type": "error",
     "traceback": [
      "\u001b[1;31m---------------------------------------------------------------------------\u001b[0m",
      "\u001b[1;31mInvocationException\u001b[0m                       Traceback (most recent call last)",
      "\u001b[1;32m<ipython-input-76-fe19211b3aad>\u001b[0m in \u001b[0;36m<module>\u001b[1;34m\u001b[0m\n\u001b[0;32m      8\u001b[0m \u001b[1;31m# Alternatively for class_names use entr_model2.classes_\u001b[0m\u001b[1;33m\u001b[0m\u001b[1;33m\u001b[0m\u001b[1;33m\u001b[0m\u001b[0m\n\u001b[0;32m      9\u001b[0m \u001b[0mgraph\u001b[0m \u001b[1;33m=\u001b[0m \u001b[0mpydotplus\u001b[0m\u001b[1;33m.\u001b[0m\u001b[0mgraph_from_dot_data\u001b[0m\u001b[1;33m(\u001b[0m\u001b[0mdot_data\u001b[0m\u001b[1;33m.\u001b[0m\u001b[0mgetvalue\u001b[0m\u001b[1;33m(\u001b[0m\u001b[1;33m)\u001b[0m\u001b[1;33m)\u001b[0m\u001b[1;33m\u001b[0m\u001b[1;33m\u001b[0m\u001b[0m\n\u001b[1;32m---> 10\u001b[1;33m \u001b[0mImage\u001b[0m\u001b[1;33m(\u001b[0m\u001b[0mgraph\u001b[0m\u001b[1;33m.\u001b[0m\u001b[0mcreate_png\u001b[0m\u001b[1;33m(\u001b[0m\u001b[1;33m)\u001b[0m\u001b[1;33m)\u001b[0m\u001b[1;33m\u001b[0m\u001b[1;33m\u001b[0m\u001b[0m\n\u001b[0m",
      "\u001b[1;32m~\\anaconda\\lib\\site-packages\\pydotplus\\graphviz.py\u001b[0m in \u001b[0;36m<lambda>\u001b[1;34m(f, prog)\u001b[0m\n\u001b[0;32m   1795\u001b[0m             self.__setattr__(\n\u001b[0;32m   1796\u001b[0m                 \u001b[1;34m'create_'\u001b[0m \u001b[1;33m+\u001b[0m \u001b[0mfrmt\u001b[0m\u001b[1;33m,\u001b[0m\u001b[1;33m\u001b[0m\u001b[1;33m\u001b[0m\u001b[0m\n\u001b[1;32m-> 1797\u001b[1;33m                 \u001b[1;32mlambda\u001b[0m \u001b[0mf\u001b[0m\u001b[1;33m=\u001b[0m\u001b[0mfrmt\u001b[0m\u001b[1;33m,\u001b[0m \u001b[0mprog\u001b[0m\u001b[1;33m=\u001b[0m\u001b[0mself\u001b[0m\u001b[1;33m.\u001b[0m\u001b[0mprog\u001b[0m\u001b[1;33m:\u001b[0m \u001b[0mself\u001b[0m\u001b[1;33m.\u001b[0m\u001b[0mcreate\u001b[0m\u001b[1;33m(\u001b[0m\u001b[0mformat\u001b[0m\u001b[1;33m=\u001b[0m\u001b[0mf\u001b[0m\u001b[1;33m,\u001b[0m \u001b[0mprog\u001b[0m\u001b[1;33m=\u001b[0m\u001b[0mprog\u001b[0m\u001b[1;33m)\u001b[0m\u001b[1;33m\u001b[0m\u001b[1;33m\u001b[0m\u001b[0m\n\u001b[0m\u001b[0;32m   1798\u001b[0m             )\n\u001b[0;32m   1799\u001b[0m             \u001b[0mf\u001b[0m \u001b[1;33m=\u001b[0m \u001b[0mself\u001b[0m\u001b[1;33m.\u001b[0m\u001b[0m__dict__\u001b[0m\u001b[1;33m[\u001b[0m\u001b[1;34m'create_'\u001b[0m \u001b[1;33m+\u001b[0m \u001b[0mfrmt\u001b[0m\u001b[1;33m]\u001b[0m\u001b[1;33m\u001b[0m\u001b[1;33m\u001b[0m\u001b[0m\n",
      "\u001b[1;32m~\\anaconda\\lib\\site-packages\\pydotplus\\graphviz.py\u001b[0m in \u001b[0;36mcreate\u001b[1;34m(self, prog, format)\u001b[0m\n\u001b[0;32m   1957\u001b[0m             \u001b[0mself\u001b[0m\u001b[1;33m.\u001b[0m\u001b[0mprogs\u001b[0m \u001b[1;33m=\u001b[0m \u001b[0mfind_graphviz\u001b[0m\u001b[1;33m(\u001b[0m\u001b[1;33m)\u001b[0m\u001b[1;33m\u001b[0m\u001b[1;33m\u001b[0m\u001b[0m\n\u001b[0;32m   1958\u001b[0m             \u001b[1;32mif\u001b[0m \u001b[0mself\u001b[0m\u001b[1;33m.\u001b[0m\u001b[0mprogs\u001b[0m \u001b[1;32mis\u001b[0m \u001b[1;32mNone\u001b[0m\u001b[1;33m:\u001b[0m\u001b[1;33m\u001b[0m\u001b[1;33m\u001b[0m\u001b[0m\n\u001b[1;32m-> 1959\u001b[1;33m                 raise InvocationException(\n\u001b[0m\u001b[0;32m   1960\u001b[0m                     'GraphViz\\'s executables not found')\n\u001b[0;32m   1961\u001b[0m \u001b[1;33m\u001b[0m\u001b[0m\n",
      "\u001b[1;31mInvocationException\u001b[0m: GraphViz's executables not found"
     ]
    }
   ],
   "source": [
    "# As before, we need to visualize the tree to grasp its nature\n",
    "dot_data = StringIO()\n",
    "\n",
    "tree.export_graphviz(entr_model2, out_file=dot_data,  \n",
    "                filled=True, rounded=True,\n",
    "                special_characters=True, feature_names=X_train.columns,class_names = [\"NO\", \"YES\"]) \n",
    "\n",
    "# Alternatively for class_names use entr_model2.classes_\n",
    "graph = pydotplus.graph_from_dot_data(dot_data.getvalue())  \n",
    "Image(graph.create_png())"
   ]
  },
  {
   "cell_type": "code",
   "execution_count": 77,
   "metadata": {
    "colab": {},
    "colab_type": "code",
    "id": "29f4vmmMDuWy"
   },
   "outputs": [
    {
     "name": "stdout",
     "output_type": "stream",
     "text": [
      "Model Entropy model max depth 3\n",
      "Accuracy: 0.907563025210084\n",
      "Balanced accuracy: 0.8658536585365854\n",
      "Precision score for \"Yes\" 0.8764044943820225\n",
      "Recall score for \"No\" 0.7317073170731707\n"
     ]
    }
   ],
   "source": [
    "# Run this block for model evaluation \n",
    "print(\"Model Entropy model max depth 3\")\n",
    "print(\"Accuracy:\", metrics.accuracy_score(y_test,y_pred))\n",
    "print(\"Balanced accuracy:\", metrics.balanced_accuracy_score(y_test,y_pred))\n",
    "print('Precision score for \"Yes\"' , metrics.precision_score(y_test,y_pred, pos_label = \"YES\"))\n",
    "print('Recall score for \"No\"' , metrics.recall_score(y_test,y_pred, pos_label = \"NO\"))"
   ]
  },
  {
   "cell_type": "markdown",
   "metadata": {
    "colab_type": "text",
    "id": "AG7S2YgUDuW4"
   },
   "source": [
    "So our accuracy decreased, but is this certainly an inferior tree to the max depth original tree we did with Model 1? Write your conclusions here: "
   ]
  },
  {
   "cell_type": "markdown",
   "metadata": {
    "colab_type": "text",
    "id": "FZTl4W3wDuW4"
   },
   "source": [
    "## Model 4: Gini impurity  model - max depth 3\n",
    "We're now going to try the same with the Gini impurity model. "
   ]
  },
  {
   "cell_type": "code",
   "execution_count": 74,
   "metadata": {
    "colab": {},
    "colab_type": "code",
    "id": "FJK1bkG3DuW5"
   },
   "outputs": [
    {
     "data": {
      "text/plain": [
       "DecisionTreeClassifier(max_depth=3, random_state=1234)"
      ]
     },
     "execution_count": 74,
     "metadata": {},
     "output_type": "execute_result"
    }
   ],
   "source": [
    "# As before, make a variable, but call it gini_model2, and ensure the max_depth parameter is set to 3\n",
    "gini_model2  =tree.DecisionTreeClassifier(criterion=\"gini\", max_depth = 3, random_state = 1234)\n",
    "\n",
    "\n",
    "# Do the fit, predict, and series transformations as before. \n",
    "gini_model2.fit(X_train, y_train)\n",
    "y_pred = gini_model2.predict(X_test)\n",
    "y_pred = pd.Series(y_pred)\n",
    "gini_model2"
   ]
  },
  {
   "cell_type": "code",
   "execution_count": 78,
   "metadata": {
    "colab": {},
    "colab_type": "code",
    "id": "_UIWhKZBDuW7"
   },
   "outputs": [
    {
     "ename": "InvocationException",
     "evalue": "GraphViz's executables not found",
     "output_type": "error",
     "traceback": [
      "\u001b[1;31m---------------------------------------------------------------------------\u001b[0m",
      "\u001b[1;31mInvocationException\u001b[0m                       Traceback (most recent call last)",
      "\u001b[1;32m<ipython-input-78-316d6ca71b1b>\u001b[0m in \u001b[0;36m<module>\u001b[1;34m\u001b[0m\n\u001b[0;32m      7\u001b[0m \u001b[1;31m# Alternatively for class_names use gini_model2.classes_\u001b[0m\u001b[1;33m\u001b[0m\u001b[1;33m\u001b[0m\u001b[1;33m\u001b[0m\u001b[0m\n\u001b[0;32m      8\u001b[0m \u001b[0mgraph\u001b[0m \u001b[1;33m=\u001b[0m \u001b[0mpydotplus\u001b[0m\u001b[1;33m.\u001b[0m\u001b[0mgraph_from_dot_data\u001b[0m\u001b[1;33m(\u001b[0m\u001b[0mdot_data\u001b[0m\u001b[1;33m.\u001b[0m\u001b[0mgetvalue\u001b[0m\u001b[1;33m(\u001b[0m\u001b[1;33m)\u001b[0m\u001b[1;33m)\u001b[0m\u001b[1;33m\u001b[0m\u001b[1;33m\u001b[0m\u001b[0m\n\u001b[1;32m----> 9\u001b[1;33m \u001b[0mImage\u001b[0m\u001b[1;33m(\u001b[0m\u001b[0mgraph\u001b[0m\u001b[1;33m.\u001b[0m\u001b[0mcreate_png\u001b[0m\u001b[1;33m(\u001b[0m\u001b[1;33m)\u001b[0m\u001b[1;33m)\u001b[0m\u001b[1;33m\u001b[0m\u001b[1;33m\u001b[0m\u001b[0m\n\u001b[0m",
      "\u001b[1;32m~\\anaconda\\lib\\site-packages\\pydotplus\\graphviz.py\u001b[0m in \u001b[0;36m<lambda>\u001b[1;34m(f, prog)\u001b[0m\n\u001b[0;32m   1795\u001b[0m             self.__setattr__(\n\u001b[0;32m   1796\u001b[0m                 \u001b[1;34m'create_'\u001b[0m \u001b[1;33m+\u001b[0m \u001b[0mfrmt\u001b[0m\u001b[1;33m,\u001b[0m\u001b[1;33m\u001b[0m\u001b[1;33m\u001b[0m\u001b[0m\n\u001b[1;32m-> 1797\u001b[1;33m                 \u001b[1;32mlambda\u001b[0m \u001b[0mf\u001b[0m\u001b[1;33m=\u001b[0m\u001b[0mfrmt\u001b[0m\u001b[1;33m,\u001b[0m \u001b[0mprog\u001b[0m\u001b[1;33m=\u001b[0m\u001b[0mself\u001b[0m\u001b[1;33m.\u001b[0m\u001b[0mprog\u001b[0m\u001b[1;33m:\u001b[0m \u001b[0mself\u001b[0m\u001b[1;33m.\u001b[0m\u001b[0mcreate\u001b[0m\u001b[1;33m(\u001b[0m\u001b[0mformat\u001b[0m\u001b[1;33m=\u001b[0m\u001b[0mf\u001b[0m\u001b[1;33m,\u001b[0m \u001b[0mprog\u001b[0m\u001b[1;33m=\u001b[0m\u001b[0mprog\u001b[0m\u001b[1;33m)\u001b[0m\u001b[1;33m\u001b[0m\u001b[1;33m\u001b[0m\u001b[0m\n\u001b[0m\u001b[0;32m   1798\u001b[0m             )\n\u001b[0;32m   1799\u001b[0m             \u001b[0mf\u001b[0m \u001b[1;33m=\u001b[0m \u001b[0mself\u001b[0m\u001b[1;33m.\u001b[0m\u001b[0m__dict__\u001b[0m\u001b[1;33m[\u001b[0m\u001b[1;34m'create_'\u001b[0m \u001b[1;33m+\u001b[0m \u001b[0mfrmt\u001b[0m\u001b[1;33m]\u001b[0m\u001b[1;33m\u001b[0m\u001b[1;33m\u001b[0m\u001b[0m\n",
      "\u001b[1;32m~\\anaconda\\lib\\site-packages\\pydotplus\\graphviz.py\u001b[0m in \u001b[0;36mcreate\u001b[1;34m(self, prog, format)\u001b[0m\n\u001b[0;32m   1957\u001b[0m             \u001b[0mself\u001b[0m\u001b[1;33m.\u001b[0m\u001b[0mprogs\u001b[0m \u001b[1;33m=\u001b[0m \u001b[0mfind_graphviz\u001b[0m\u001b[1;33m(\u001b[0m\u001b[1;33m)\u001b[0m\u001b[1;33m\u001b[0m\u001b[1;33m\u001b[0m\u001b[0m\n\u001b[0;32m   1958\u001b[0m             \u001b[1;32mif\u001b[0m \u001b[0mself\u001b[0m\u001b[1;33m.\u001b[0m\u001b[0mprogs\u001b[0m \u001b[1;32mis\u001b[0m \u001b[1;32mNone\u001b[0m\u001b[1;33m:\u001b[0m\u001b[1;33m\u001b[0m\u001b[1;33m\u001b[0m\u001b[0m\n\u001b[1;32m-> 1959\u001b[1;33m                 raise InvocationException(\n\u001b[0m\u001b[0;32m   1960\u001b[0m                     'GraphViz\\'s executables not found')\n\u001b[0;32m   1961\u001b[0m \u001b[1;33m\u001b[0m\u001b[0m\n",
      "\u001b[1;31mInvocationException\u001b[0m: GraphViz's executables not found"
     ]
    }
   ],
   "source": [
    "dot_data = StringIO()\n",
    "\n",
    "tree.export_graphviz(gini_model2, out_file=dot_data,  \n",
    "                filled=True, rounded=True,\n",
    "                special_characters=True, feature_names=X_train.columns,class_names = [\"NO\", \"YES\"]) \n",
    "\n",
    "# Alternatively for class_names use gini_model2.classes_\n",
    "graph = pydotplus.graph_from_dot_data(dot_data.getvalue())  \n",
    "Image(graph.create_png())"
   ]
  },
  {
   "cell_type": "code",
   "execution_count": 79,
   "metadata": {
    "colab": {},
    "colab_type": "code",
    "id": "R4t7e9-GDuW9"
   },
   "outputs": [
    {
     "name": "stdout",
     "output_type": "stream",
     "text": [
      "Gini impurity  model - max depth 3\n",
      "Accuracy: 0.907563025210084\n",
      "Balanced accuracy: 0.8658536585365854\n",
      "Precision score 0.8764044943820225\n",
      "Recall score 0.7317073170731707\n"
     ]
    }
   ],
   "source": [
    "print(\"Gini impurity  model - max depth 3\")\n",
    "print(\"Accuracy:\", metrics.accuracy_score(y_test,y_pred))\n",
    "print(\"Balanced accuracy:\", metrics.balanced_accuracy_score(y_test,y_pred))\n",
    "print('Precision score' , metrics.precision_score(y_test,y_pred, pos_label = \"YES\"))\n",
    "print('Recall score' , metrics.recall_score(y_test,y_pred, pos_label = \"NO\"))"
   ]
  },
  {
   "cell_type": "markdown",
   "metadata": {
    "colab_type": "text",
    "id": "UzGThBXSDuW-"
   },
   "source": [
    "Now this is an elegant tree. Its accuracy might not be the highest, but it's still the best model we've produced so far. Why is that? Write your answer here: "
   ]
  },
  {
   "cell_type": "markdown",
   "metadata": {
    "colab_type": "text",
    "id": "jS1niFlCDuW_"
   },
   "source": [
    "# 4. Evaluating and concluding\n",
    "## 4a. How many customers will buy Hidden Farm coffee? \n",
    "Let's first ascertain how many loyal customers claimed, in the survey, that they will purchase the Hidden Farm coffee. "
   ]
  },
  {
   "cell_type": "code",
   "execution_count": 80,
   "metadata": {
    "colab": {},
    "colab_type": "code",
    "id": "QPHXnHZvDuXC"
   },
   "outputs": [
    {
     "data": {
      "text/plain": [
       "YES    303\n",
       "NO     171\n",
       "Name: Decision, dtype: int64"
      ]
     },
     "execution_count": 80,
     "metadata": {},
     "output_type": "execute_result"
    }
   ],
   "source": [
    "# Call value_counts() on the 'Decision' column of the original coffeeData\n",
    "coffee[\"Decision\"].value_counts()"
   ]
  },
  {
   "cell_type": "markdown",
   "metadata": {
    "colab_type": "text",
    "id": "kw_5g_ZEDuXD"
   },
   "source": [
    "Let's now determine the number of people that, according to the model, will be willing to buy the Hidden Farm coffee. \n",
    "1. First we subset the Prediction dataset into `new_X` considering all the variables except `Decision` \n",
    "2. Use that dataset to predict a new variable called `potential_buyers`"
   ]
  },
  {
   "cell_type": "code",
   "execution_count": 85,
   "metadata": {
    "colab": {},
    "colab_type": "code",
    "id": "mwypR8ymDuXE"
   },
   "outputs": [
    {
     "ename": "NameError",
     "evalue": "name 'Prediction' is not defined",
     "output_type": "error",
     "traceback": [
      "\u001b[1;31m---------------------------------------------------------------------------\u001b[0m",
      "\u001b[1;31mNameError\u001b[0m                                 Traceback (most recent call last)",
      "\u001b[1;32m<ipython-input-85-ae95966b84ea>\u001b[0m in \u001b[0;36m<module>\u001b[1;34m\u001b[0m\n\u001b[0;32m      5\u001b[0m \u001b[1;33m\u001b[0m\u001b[0m\n\u001b[0;32m      6\u001b[0m \u001b[1;31m# Make a variable called new_X, and assign it the subset of Prediction, containing just the feature_cols\u001b[0m\u001b[1;33m\u001b[0m\u001b[1;33m\u001b[0m\u001b[1;33m\u001b[0m\u001b[0m\n\u001b[1;32m----> 7\u001b[1;33m \u001b[0mnew_X\u001b[0m \u001b[1;33m=\u001b[0m \u001b[0mPrediction\u001b[0m\u001b[1;33m(\u001b[0m\u001b[0mfeature_cols\u001b[0m\u001b[1;33m)\u001b[0m\u001b[1;33m\u001b[0m\u001b[1;33m\u001b[0m\u001b[0m\n\u001b[0m",
      "\u001b[1;31mNameError\u001b[0m: name 'Prediction' is not defined"
     ]
    }
   ],
   "source": [
    "# Feature selection\n",
    "# Make a variable called feature_cols, and assign it a list containing all the column names except 'Decision'\n",
    "feature_cols = [\"Age\", \"Gender\", \"num_coffeeBags_per_year\", \"spent_last_week\", \"spent_last_month\",\n",
    "       \"Salary\", \"Distance\", \"Online\"]\n",
    "\n",
    "# Make a variable called new_X, and assign it the subset of Prediction, containing just the feature_cols \n",
    "new_X = Prediction.drop(columns =[\"Decision\"])"
   ]
  },
  {
   "cell_type": "code",
   "execution_count": 83,
   "metadata": {
    "colab": {},
    "colab_type": "code",
    "id": "0ajvbeRSDuXG"
   },
   "outputs": [
    {
     "ename": "NameError",
     "evalue": "name 'new_X' is not defined",
     "output_type": "error",
     "traceback": [
      "\u001b[1;31m---------------------------------------------------------------------------\u001b[0m",
      "\u001b[1;31mNameError\u001b[0m                                 Traceback (most recent call last)",
      "\u001b[1;32m<ipython-input-83-e17f5785cbdc>\u001b[0m in \u001b[0;36m<module>\u001b[1;34m\u001b[0m\n\u001b[0;32m      1\u001b[0m \u001b[1;31m# Call get_dummies() on the Pandas object pd, with new_X plugged in, to one-hot encode all features in the training set\u001b[0m\u001b[1;33m\u001b[0m\u001b[1;33m\u001b[0m\u001b[1;33m\u001b[0m\u001b[0m\n\u001b[1;32m----> 2\u001b[1;33m \u001b[0mnew_X\u001b[0m \u001b[1;33m=\u001b[0m \u001b[0mpd\u001b[0m\u001b[1;33m.\u001b[0m\u001b[0mget_dummies\u001b[0m\u001b[1;33m(\u001b[0m\u001b[0mnew_X\u001b[0m\u001b[1;33m)\u001b[0m\u001b[1;33m\u001b[0m\u001b[1;33m\u001b[0m\u001b[0m\n\u001b[0m\u001b[0;32m      3\u001b[0m \u001b[1;31m# Make a variable called potential_buyers, and assign it the result of calling predict() on a model of your choice;\u001b[0m\u001b[1;33m\u001b[0m\u001b[1;33m\u001b[0m\u001b[1;33m\u001b[0m\u001b[0m\n\u001b[0;32m      4\u001b[0m \u001b[1;31m# don't forget to pass new_X to predict()\u001b[0m\u001b[1;33m\u001b[0m\u001b[1;33m\u001b[0m\u001b[1;33m\u001b[0m\u001b[0m\n\u001b[0;32m      5\u001b[0m \u001b[0mpotential_buyers\u001b[0m \u001b[1;33m=\u001b[0m \u001b[0mgini_model2\u001b[0m\u001b[1;33m.\u001b[0m\u001b[0mpredict\u001b[0m\u001b[1;33m(\u001b[0m\u001b[0mnew_X\u001b[0m\u001b[1;33m)\u001b[0m\u001b[1;33m\u001b[0m\u001b[1;33m\u001b[0m\u001b[0m\n",
      "\u001b[1;31mNameError\u001b[0m: name 'new_X' is not defined"
     ]
    }
   ],
   "source": [
    "# Call get_dummies() on the Pandas object pd, with new_X plugged in, to one-hot encode all features in the training set\n",
    "new_X = pd.get_dummies(new_X)\n",
    "# Make a variable called potential_buyers, and assign it the result of calling predict() on a model of your choice; \n",
    "# don't forget to pass new_X to predict()\n",
    "potential_buyers = gini_model2.predict(new_X)"
   ]
  },
  {
   "cell_type": "code",
   "execution_count": 86,
   "metadata": {
    "colab": {},
    "colab_type": "code",
    "id": "-MO_KWT9DuXI"
   },
   "outputs": [
    {
     "ename": "NameError",
     "evalue": "name 'potential_buyers' is not defined",
     "output_type": "error",
     "traceback": [
      "\u001b[1;31m---------------------------------------------------------------------------\u001b[0m",
      "\u001b[1;31mNameError\u001b[0m                                 Traceback (most recent call last)",
      "\u001b[1;32m<ipython-input-86-24d00926749b>\u001b[0m in \u001b[0;36m<module>\u001b[1;34m\u001b[0m\n\u001b[0;32m      1\u001b[0m \u001b[1;31m# Let's get the numbers of YES's and NO's in the potential buyers\u001b[0m\u001b[1;33m\u001b[0m\u001b[1;33m\u001b[0m\u001b[1;33m\u001b[0m\u001b[0m\n\u001b[0;32m      2\u001b[0m \u001b[1;31m# Call unique() on np, and pass potential_buyers and return_counts=True\u001b[0m\u001b[1;33m\u001b[0m\u001b[1;33m\u001b[0m\u001b[1;33m\u001b[0m\u001b[0m\n\u001b[1;32m----> 3\u001b[1;33m \u001b[0mnp\u001b[0m\u001b[1;33m.\u001b[0m\u001b[0munique\u001b[0m\u001b[1;33m(\u001b[0m\u001b[0mpotential_buyers\u001b[0m\u001b[1;33m,\u001b[0m \u001b[0mreturn_counts\u001b[0m \u001b[1;33m=\u001b[0m \u001b[1;32mTrue\u001b[0m\u001b[1;33m)\u001b[0m\u001b[1;33m\u001b[0m\u001b[1;33m\u001b[0m\u001b[0m\n\u001b[0m",
      "\u001b[1;31mNameError\u001b[0m: name 'potential_buyers' is not defined"
     ]
    }
   ],
   "source": [
    "# Let's get the numbers of YES's and NO's in the potential buyers \n",
    "# Call unique() on np, and pass potential_buyers and return_counts=True \n",
    "np.unique(potential_buyers, return_counts = True)"
   ]
  },
  {
   "cell_type": "markdown",
   "metadata": {
    "colab_type": "text",
    "id": "3CB7HbiTDuXJ"
   },
   "source": [
    "The total number of potential buyers is 303 + 183 = 486"
   ]
  },
  {
   "cell_type": "code",
   "execution_count": 87,
   "metadata": {
    "colab": {},
    "colab_type": "code",
    "id": "9EGFQcTuDuXK"
   },
   "outputs": [
    {
     "name": "stdout",
     "output_type": "stream",
     "text": [
      "The total number of surveyed people was 702\n"
     ]
    }
   ],
   "source": [
    "# Print the total number of surveyed people \n",
    "print(\"The total number of surveyed people was\", coffee.salary.count())"
   ]
  },
  {
   "cell_type": "code",
   "execution_count": 88,
   "metadata": {
    "colab": {},
    "colab_type": "code",
    "id": "22_KRMX4DuXM"
   },
   "outputs": [
    {
     "data": {
      "text/plain": [
       "0.6923076923076923"
      ]
     },
     "execution_count": 88,
     "metadata": {},
     "output_type": "execute_result"
    }
   ],
   "source": [
    "# Let's calculate the proportion of buyers\n",
    "486/702"
   ]
  },
  {
   "cell_type": "code",
   "execution_count": 90,
   "metadata": {
    "colab": {},
    "colab_type": "code",
    "id": "xLMCDMpmDuXO"
   },
   "outputs": [
    {
     "name": "stdout",
     "output_type": "stream",
     "text": [
      "69.231 % of people want to buy the Hidden Farm coffee.\n"
     ]
    }
   ],
   "source": [
    "# Print the percentage of people who want to buy the Hidden Farm coffee, by our model \n",
    "print(round((486/702)*100, 3), \"% of people want to buy the Hidden Farm coffee.\")"
   ]
  },
  {
   "cell_type": "markdown",
   "metadata": {
    "colab_type": "text",
    "id": "9bRDyi6rDuXQ"
   },
   "source": [
    "## 4b. Decision\n",
    "Remember how you thought at the start: if more than 70% of the interviewed customers are likely to buy the Hidden Farm coffee, you will strike the deal with the local Hidden Farm farmers and sell the coffee. Otherwise, you won't strike the deal and the Hidden Farm coffee will remain in legends only. Well now's crunch time. Are you going to go ahead with that idea? If so, you won't be striking the deal with the Chinese farmers. \n",
    "\n",
    "They're called `decision trees`, aren't they? So where's the decision? What should you do? (Cue existential cat emoji). \n",
    "\n",
    "Ultimately, though, we can't write an algorithm to actually *make the business decision* for us. This is because such decisions depend on our values, what risks we are willing to take, the stakes of our decisions, and how important it us for us to *know* that we will succeed. What are you going to do with the models you've made? Are you going to risk everything, strike the deal with the *Hidden Farm* farmers, and sell the coffee? \n",
    "\n",
    "The philosopher of language Jason Stanley once wrote that the number of doubts our evidence has to rule out in order for us to know a given proposition depends on our stakes: the higher our stakes, the more doubts our evidence has to rule out, and therefore the harder it is for us to know things. We can end up paralyzed in predicaments; sometimes, we can act to better our situation only if we already know certain things, which we can only if our stakes were lower and we'd *already* bettered our situation. \n",
    "\n",
    "Data science and machine learning can't solve such problems. But what it can do is help us make great use of our data to help *inform* our decisions."
   ]
  },
  {
   "cell_type": "markdown",
   "metadata": {
    "colab_type": "text",
    "id": "crWWrpdox8i-"
   },
   "source": [
    "## 5. Random Forest\n",
    "You might have noticed an important fact about decision trees. Each time we run a given decision tree algorithm to make a prediction (such as whether customers will buy the Hidden Farm coffee) we will actually get a slightly different result. This might seem weird, but it has a simple explanation: machine learning algorithms are by definition ***stochastic***, in that their output is at least partly determined by randomness. \n",
    "\n",
    "To account for this variability and ensure that we get the most accurate prediction, we might want to actually make lots of decision trees, and get a value that captures the centre or average of the outputs of those trees. Luckily, there's a method for this, known as the ***Random Forest***. \n",
    "\n",
    "Essentially, Random Forest involves making lots of trees with similar properties, and then performing summary statistics on the outputs of those trees to reach that central value. Random forests are hugely powerful classifers, and they can improve predictive accuracy and control over-fitting. \n",
    "\n",
    "Why not try to inform your decision with random forest? You'll need to make use of the RandomForestClassifier function within the sklearn.ensemble module, found [here](https://scikit-learn.org/stable/modules/generated/sklearn.ensemble.RandomForestClassifier.html). "
   ]
  },
  {
   "cell_type": "markdown",
   "metadata": {
    "colab_type": "text",
    "id": "fI4fiVWq0IH9"
   },
   "source": [
    "### 5a. Import necessary modules"
   ]
  },
  {
   "cell_type": "code",
   "execution_count": 91,
   "metadata": {
    "colab": {},
    "colab_type": "code",
    "id": "vSRTnHnD0D-O"
   },
   "outputs": [],
   "source": [
    "from sklearn.ensemble import RandomForestClassifier\n",
    "from sklearn.datasets import make_classification"
   ]
  },
  {
   "cell_type": "markdown",
   "metadata": {
    "colab_type": "text",
    "id": "jKmFvvjb0WB9"
   },
   "source": [
    "### 5b. Model\n",
    "You'll use your X_train and y_train variables just as before.\n",
    "\n",
    "You'll then need to make a variable (call it firstRFModel) to store your new Random Forest model. You'll assign this variable the result of calling RandomForestClassifier().\n",
    "\n",
    "Then, just as before, you'll call fit() on that firstRFModel variable, and plug in X_train and y_train.\n",
    "\n",
    "Finally, you should make a variable called y_pred, and assign it the result of calling the predict() method on your new firstRFModel, with the X_test data passed to it. "
   ]
  },
  {
   "cell_type": "code",
   "execution_count": 92,
   "metadata": {
    "colab": {},
    "colab_type": "code",
    "id": "OQEeTiRG1aSm"
   },
   "outputs": [
    {
     "data": {
      "text/plain": [
       "RandomForestClassifier(max_depth=3, random_state=1234)"
      ]
     },
     "execution_count": 92,
     "metadata": {},
     "output_type": "execute_result"
    }
   ],
   "source": [
    "# Plug in appropriate max_depth and random_state parameters \n",
    "firstRFModel = RandomForestClassifier(max_depth= 3, random_state= 1234)\n",
    "\n",
    "# Model and fit\n",
    "firstRFModel.fit(X_train, y_train)\n",
    "\n",
    "y_pred=firstRFModel.predict(X_test)\n",
    "\n",
    "y_pred=pd.Series(y_pred)\n",
    "\n",
    "firstRFModel"
   ]
  },
  {
   "cell_type": "code",
   "execution_count": 93,
   "metadata": {},
   "outputs": [
    {
     "name": "stdout",
     "output_type": "stream",
     "text": [
      "Model RandomForestClassifier\n",
      "Accuracy: 0.9243697478991597\n",
      "Balanced accuracy: 0.8960287679799875\n",
      "Precision score 0.9058823529411765\n",
      "Recall score 0.8048780487804879\n",
      "Random Forest: Accuracy=0.9243697479\n"
     ]
    }
   ],
   "source": [
    "print(\"Model RandomForestClassifier\")\n",
    "print(\"Accuracy:\", metrics.accuracy_score(y_test,y_pred))\n",
    "print(\"Balanced accuracy:\", metrics.balanced_accuracy_score(y_test,y_pred))\n",
    "print('Precision score' , metrics.precision_score(y_test,y_pred, pos_label = \"YES\"))\n",
    "print('Recall score' , metrics.recall_score(y_test,y_pred, pos_label = \"NO\"))\n",
    "\n",
    "\n",
    "ac = accuracy_score(y_test, y_pred)\n",
    "print('Random Forest: Accuracy=%.10f' % (ac))\n",
    "\n"
   ]
  },
  {
   "cell_type": "code",
   "execution_count": null,
   "metadata": {},
   "outputs": [],
   "source": []
  },
  {
   "cell_type": "code",
   "execution_count": null,
   "metadata": {},
   "outputs": [],
   "source": []
  },
  {
   "cell_type": "markdown",
   "metadata": {
    "colab_type": "text",
    "id": "sCIt6pyn1zpb"
   },
   "source": [
    "### 5c. Revise conclusion\n",
    "\n",
    "Has your conclusion changed? Or is the result of executing random forest the same as your best model reached by a single decision tree? "
   ]
  }
 ],
 "metadata": {
  "colab": {
   "collapsed_sections": [],
   "name": "Springboard Decision Tree Specialty Coffee Case Study - Tier 3.ipynb",
   "provenance": []
  },
  "kernelspec": {
   "display_name": "Python 3",
   "language": "python",
   "name": "python3"
  },
  "language_info": {
   "codemirror_mode": {
    "name": "ipython",
    "version": 3
   },
   "file_extension": ".py",
   "mimetype": "text/x-python",
   "name": "python",
   "nbconvert_exporter": "python",
   "pygments_lexer": "ipython3",
   "version": "3.8.8"
  }
 },
 "nbformat": 4,
 "nbformat_minor": 4
}
